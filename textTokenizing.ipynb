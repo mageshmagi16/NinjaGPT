{
 "cells": [
  {
   "cell_type": "code",
   "execution_count": 78,
   "id": "4087b8e4-7127-4f21-ba90-54d489a377a8",
   "metadata": {},
   "outputs": [
    {
     "name": "stdout",
     "output_type": "stream",
     "text": [
      "Total number of characters: 21940\n"
     ]
    }
   ],
   "source": [
    "#opens a text file \"The_Verdict.txt\" in read mode\n",
    "with open(\"The_Verdict.txt\", \"r\") as f: \n",
    "    wikiText = f.read() #reads its entire content into the variable 'wikiText'\n",
    "print(\"Total number of characters:\", len(wikiText)) #prints the total number of characters in the file\n"
   ]
  },
  {
   "cell_type": "code",
   "execution_count": 79,
   "id": "ddd8e494-c1f0-4623-97de-1612e1c020c3",
   "metadata": {},
   "outputs": [
    {
     "name": "stdout",
     "output_type": "stream",
     "text": [
      "['This', ' ', 'is', ' ', 'python', ' ', 'file', ',', '', ' ', 'this', ' ', 'is', ' ', 'practise', '.', '']\n"
     ]
    }
   ],
   "source": [
    "import re #regular expressions\n",
    "result = \"This is python file, this is practise.\"\n",
    "\n",
    "#re.split function to split the string into a list of tokens based on commas, periods, or spaces\n",
    "var = re.split('([,.]|\\s)', result)\n",
    "print(var)"
   ]
  },
  {
   "cell_type": "code",
   "execution_count": 80,
   "id": "85f92b53-6c33-4fe5-82b0-cd24df0ce3d7",
   "metadata": {},
   "outputs": [
    {
     "name": "stdout",
     "output_type": "stream",
     "text": [
      "['T', 'h', 'i', 's', 'i', 's', 'p', 'y', 't', 'h', 'o', 'n', 'f', 'i', 'l', 'e', ',', 't', 'h', 'i', 's', 'i', 's', 'p', 'r', 'a', 'c', 't', 'i', 's', 'e', '.']\n"
     ]
    }
   ],
   "source": [
    "#filters out any empty or whitespace from the 'result' list by using a list comprehension.\n",
    "result = [item for item in result if item.strip()] \n",
    "print(result)"
   ]
  },
  {
   "cell_type": "code",
   "execution_count": 81,
   "id": "f6b538e9-7c22-42af-9d2c-252726b3ad93",
   "metadata": {},
   "outputs": [
    {
     "name": "stdout",
     "output_type": "stream",
     "text": [
      "['Hello', ',', 'world', '.', 'Is', 'this', '--', 'a', 'test', '?']\n"
     ]
    }
   ],
   "source": [
    "text = \"Hello, world. Is this-- a test?\"\n",
    "\n",
    "#regular expression that captures various punctuation marks, double hyphens, and spaces\n",
    "result = re.split(r'([,.:;?_!\"()\\']|--|\\s)', text)\n",
    "\n",
    "#removes any extra spaces from the 'result' list\n",
    "result = [item.strip() for item in result if item.strip()] \n",
    "print(result)"
   ]
  },
  {
   "cell_type": "code",
   "execution_count": 82,
   "id": "fb827a68-3bd8-427d-b662-42a964d9130d",
   "metadata": {},
   "outputs": [
    {
     "name": "stdout",
     "output_type": "stream",
     "text": [
      "['The', ' ', 'Verdict', '\\n', '', '\\n', '', '\\n', '', '\\t', '', '\\t', '', '\\t', '', '\\t', '', '\\t', 'Edith', ' ', 'Wharton', '\\n', '', '\\n', '', '\\n', '', '\\n', '', '\\n', '', '\\n', '1908', '\\n', '', '\\n', '', '\\n', '', '\\n', '', '\\n', '', '\\n', 'Exported', ' ', 'from', ' ', 'Wikisource', ' ', 'on', ' ', 'August', ' ', '27', ',', '', ' ', '2024', '\\n', '', '\\n', '', '\\n', '', '\\n', '', '\\n', '', '\\n', 'I', ' ', 'HAD', ' ', 'always', ' ', 'thought', ' ', 'Jack', ' ', 'Gisburn', ' ', 'rather', ' ', 'a', ' ', 'cheap', ' ', 'genius', '--', 'though', ' ', 'a', ' ', 'good', ' ', 'fellow', ' ', 'enough', '--', 'so', ' ', 'it', ' ', 'was', ' ', 'no', ' ', 'great', ' ', 'surprise', ' ', 'to', ' ', 'me', ' ', 'to', ' ', 'hear', ' ', 'that', ',', '', ' ', 'in', ' ', 'the', ' ', 'height', ' ', 'of', ' ', 'his', ' ', 'glory', ',', '', ' ', 'he', ' ', 'had', ' ', 'dropped', ' ', 'his', ' ', 'painting', ',', '', ' ', 'married', ' ', 'a', ' ', 'rich', ' ', 'widow', ',', '', ' ', 'and', ' ', 'established', ' ', 'himself', ' ', 'in', ' ', 'a', ' ', 'villa', ' ', 'on', ' ', 'the', ' ', 'Riviera', '.', '', ' ', '', '(', 'Though', ' ', 'I', ' ', 'rather', ' ', 'thought', ' ', 'it', ' ', 'would', ' ', 'have', ' ', 'been', ' ', 'Rome', ' ', 'or', ' ', 'Florence', '.', '', ')', '', '\\n', '', '\\n', '', '\"', 'The', ' ', 'height', ' ', 'of', ' ', 'his', ' ', 'glory', '\"', '', '--', 'that', ' ', 'was', ' ', 'what', ' ', 'the', ' ', 'women', ' ', 'called', ' ', 'it', '.', '', ' ', 'I', ' ', 'can', ' ', 'hear', ' ', 'Mrs', '.', '', ' ', 'Gideon', ' ', 'Thwing', '--', 'his', ' ', 'last', ' ', 'Chicago', ' ', 'sitter', '--', 'deploring', ' ', 'his', ' ', 'unaccountable', ' ', 'abdication', '.', '', ' ', '', '\"', 'Of', ' ', 'course', ' ', 'it', \"'\", 's', ' ', 'going', ' ', 'to', ' ', 'send', ' ', 'the', ' ', 'value', ' ', 'of', ' ', 'my', ' ', 'picture', ' ', '', \"'\", 'way', ' ', 'up', ';', '', ' ', 'but', ' ', 'I', ' ', 'don', \"'\", 't', ' ', 'think', ' ', 'of', ' ', 'that', ',', '', ' ', 'Mr', '.', '', ' ', 'Rickham', '--', 'the', ' ', 'loss', ' ', 'to', ' ', 'Arrt', ' ', 'is', ' ', 'all', ' ', 'I', ' ', 'think', ' ', 'of', '.', '', '\"', '', ' ', 'The', ' ', 'word', ',', '', ' ', 'on', ' ', 'Mrs', '.', '', ' ', 'Thwing', \"'\", 's', ' ', 'lips', ',', '', ' ', 'multiplied', ' ', 'its', ' ', '', '_', 'rs', '_', '', ' ', 'as', ' ', 'though', ' ', 'they', ' ', 'were', ' ', 'reflected', ' ', 'in', ' ', 'an', ' ', 'endless', ' ', 'vista', ' ', 'of', ' ', 'mirrors', '.', '', ' ', 'And', ' ', 'it', ' ', 'was', ' ', 'not', ' ', 'only', ' ', 'the', ' ', 'Mrs', '.', '', ' ', 'Thwings', ' ', 'who', ' ', 'mourned', '.', '', ' ', 'Had', ' ', 'not', ' ', 'the', ' ', 'exquisite', ' ', 'Hermia', ' ', 'Croft', ',', '', ' ', 'at', ' ', 'the', ' ', 'last', ' ', 'Grafton', ' ', 'Gallery', ' ', 'show', ',', '', ' ', 'stopped', ' ', 'me', ' ', 'before', ' ', 'Gisburn', \"'\", 's', ' ', '', '\"', 'Moon-dancers', '\"', '', ' ', 'to', ' ', 'say', ',', '', ' ', 'with', ' ', 'tears', ' ', 'in', ' ', 'her', ' ', 'eyes', ':', '', ' ', '', '\"', 'We', ' ', 'shall', ' ', 'not', ' ', 'look', ' ', 'upon', ' ', 'its', ' ', 'like', ' ', 'again', '\"', '', '?', '', '\\n', '', '\\n', 'Well', '!', '', '--', 'even', ' ', 'through', ' ', 'the', ' ', 'prism', ' ', 'of', ' ', 'Hermia', \"'\", 's', ' ', 'tears', ' ', 'I', ' ', 'felt', ' ', 'able', ' ', 'to', ' ', 'face', ' ', 'the', ' ', 'fact', ' ', 'with', ' ', 'equanimity', '.', '', ' ', 'Poor', ' ', 'Jack', ' ', 'Gisburn', '!', '', ' ', 'The', ' ', 'women', ' ', 'had', ' ', 'made', ' ', 'him', '--', 'it', ' ', 'was', ' ', 'fitting', ' ', 'that', ' ', 'they', ' ', 'should', ' ', 'mourn', ' ', 'him', '.', '', ' ', 'Among', ' ', 'his', ' ', 'own', ' ', 'sex', ' ', 'fewer', ' ', 'regrets', ' ', 'were', ' ', 'heard', ',', '', ' ', 'and', ' ', 'in', ' ', 'his', ' ', 'own', ' ', 'trade', ' ', 'hardly', ' ', 'a', ' ', 'murmur', '.', '', ' ', 'Professional', ' ', 'jealousy', '?', '', ' ', 'Perhaps', '.', '', ' ', 'If', ' ', 'it', ' ', 'were', ',', '', ' ', 'the', ' ', 'honour', ' ', 'of', ' ', 'the', ' ', 'craft', ' ', 'was', ' ', 'vindicated', ' ', 'by', ' ', 'little', ' ', 'Claude', ' ', 'Nutley', ',', '', ' ', 'who', ',', '', ' ', 'in', ' ', 'all', ' ', 'good', ' ', 'faith', ',', '', ' ', 'brought', ' ', 'out', ' ', 'in', ' ', 'the', ' ', 'Burlington', ' ', 'a', ' ', 'very', ' ', 'handsome', ' ', '', '\"', 'obituary', '\"', '', ' ', 'on', ' ', 'Jack', '--', 'one', ' ', 'of', ' ', 'those', ' ', 'showy', ' ', 'articles', ' ', 'stocked', ' ', 'with', ' ', 'random', ' ', 'technicalities', ' ', 'that', ' ', 'I', ' ', 'have', ' ', 'heard', ' ', '', '(', 'I', ' ', 'won', \"'\", 't', ' ', 'say', ' ', 'by', ' ', 'whom', ')', '', ' ', 'compared', ' ', 'to', ' ', 'Gisburn', \"'\", 's', ' ', 'painting', '.', '', ' ', 'And', ' ', 'so', '--', 'his', ' ', 'resolve', ' ', 'being', ' ', 'apparently', ' ', 'irrevocable', '--', 'the', ' ', 'discussion', ' ', 'gradually', ' ', 'died', ' ', 'out', ',', '', ' ', 'and', ',', '', ' ', 'as', ' ', 'Mrs', '.', '', ' ', 'Thwing', ' ', 'had', ' ', 'predicted', ',', '', ' ', 'the', ' ', 'price', ' ', 'of', ' ', '', '\"', 'Gisburns', '\"', '', ' ', 'went', ' ', 'up', '.', '', '\\n', '', '\\n', 'It', ' ', 'was', ' ', 'not', ' ', 'till', ' ', 'three', ' ', 'years', ' ', 'later', ' ', 'that', ',', '', ' ', 'in', ' ', 'the', ' ', 'course', ' ', 'of', ' ', 'a', ' ', 'few', ' ', 'weeks', \"'\", '', ' ', 'idling', ' ', 'on', ' ', 'the', ' ', 'Riviera', ',', '', ' ', 'it', ' ', 'suddenly', ' ', 'occurred', ' ', 'to', ' ', 'me', ' ', 'to', ' ', 'wonder', ' ', 'why', ' ', 'Gisburn', ' ', 'had', ' ', 'given', ' ', 'up', ' ', 'his', ' ', 'painting', '.', '', ' ', 'On', ' ', 'reflection', ',', '', ' ', 'it', ' ', 'really', ' ', 'was', ' ', 'a', ' ', 'tempting', ' ', 'problem', '.', '', ' ', 'To', ' ', 'accuse', ' ', 'his', ' ', 'wife', ' ', 'would', ' ', 'have', ' ', 'been', ' ', 'too', ' ', 'easy', '--', 'his', ' ', 'fair', ' ', 'sitters', ' ', 'had', ' ', 'been', ' ', 'denied', ' ', 'the', ' ', 'solace', ' ', 'of', ' ', 'saying', ' ', 'that', ' ', 'Mrs', '.', '', ' ', 'Gisburn', ' ', 'had', ' ', '', '\"', 'dragged', ' ', 'him', ' ', 'down', '.', '', '\"', '', ' ', 'For', ' ', 'Mrs', '.', '', ' ', 'Gisburn', '--', 'as', ' ', 'such', '--', 'had', ' ', 'not', ' ', 'existed', ' ', 'till', ' ', 'nearly', ' ', 'a', ' ', 'year', ' ', 'after', ' ', 'Jack', \"'\", 's', ' ', 'resolve', ' ', 'had', ' ', 'been', ' ', 'taken', '.', '', ' ', 'It', ' ', 'might', ' ', 'be', ' ', 'that', ' ', 'he', ' ', 'had', ' ', 'married', ' ', 'her', '--', 'since', ' ', 'he', ' ', 'liked', ' ', 'his', ' ', 'ease', '--', 'because', ' ', 'he', ' ', 'didn', \"'\", 't', ' ', 'want', ' ', 'to', ' ', 'go', ' ', 'on', ' ', 'painting', ';', '', ' ', 'but', ' ', 'it', ' ', 'would', ' ', 'have', ' ', 'been', ' ', 'hard', ' ', 'to', ' ', 'prove', ' ', 'that', ' ', 'he', ' ', 'had', ' ', 'given', ' ', 'up', ' ', 'his', ' ', 'painting', ' ', 'because', ' ', 'he', ' ', 'had', ' ', 'married', ' ', 'her', '.', '', '\\n', '', '\\n', 'Of', ' ', 'course', ',', '', ' ', 'if', ' ', 'she', ' ', 'had', ' ', 'not', ' ', 'dragged', ' ', 'him', ' ', 'down', ',', '', ' ', 'she', ' ', 'had', ' ', 'equally', ',', '', ' ', 'as', ' ', 'Miss', ' ', 'Croft', ' ', 'contended', ',', '', ' ', 'failed', ' ', 'to', ' ', '', '\"', 'lift', ' ', 'him', ' ', 'up', '\"', '', '--', 'she', ' ', 'had', ' ', 'not', ' ', 'led', ' ', 'him', ' ', 'back', ' ', 'to', ' ', 'the', ' ', 'easel', '.', '', ' ', 'To', ' ', 'put', ' ', 'the', ' ', 'brush', ' ', 'into', ' ', 'his', ' ', 'hand', ' ', 'again', '--', 'what', ' ', 'a', ' ', 'vocation', ' ', 'for', ' ', 'a', ' ', 'wife', '!', '', ' ', 'But', ' ', 'Mrs', '.', '', ' ', 'Gisburn', ' ', 'appeared', ' ', 'to', ' ', 'have', ' ', 'disdained', ' ', 'it', '--', 'and', ' ', 'I', ' ', 'felt', ' ', 'it', ' ', 'might', ' ', 'be', ' ', 'interesting', ' ', 'to', ' ', 'find', ' ', 'out', ' ', 'why', '.', '', '\\n', '', '\\n', 'The', ' ', 'desultory', ' ', 'life', ' ', 'of', ' ', 'the', ' ', 'Riviera', ' ', 'lends', ' ', 'itself', ' ', 'to', ' ', 'such', ' ', 'purely', ' ', 'academic', ' ', 'speculations', ';', '', ' ', 'and', ' ', 'having', ',', '', ' ', 'on', ' ', 'my', ' ', 'way', ' ', 'to', ' ', 'Monte', ' ', 'Carlo', ',', '', ' ', 'caught', ' ', 'a', ' ', 'glimpse', ' ', 'of', ' ', 'Jack', \"'\", 's', ' ', 'balustraded', ' ', 'terraces', ' ', 'between', ' ', 'the', ' ', 'pines', ',', '', ' ', 'I', ' ', 'had', ' ', 'myself', ' ', 'borne', ' ', 'thither', ' ', 'the', ' ', 'next', ' ', 'day', '.', '', '\\n', '', '\\n', 'I', ' ', 'found', ' ', 'the', ' ', 'couple', ' ', 'at', ' ', 'tea', ' ', 'beneath', ' ', 'their', ' ', 'palm-trees', ';', '', ' ', 'and', ' ', 'Mrs', '.', '', ' ', 'Gisburn', \"'\", 's', ' ', 'welcome', ' ', 'was', ' ', 'so', ' ', 'genial', ' ', 'that', ',', '', ' ', 'in', ' ', 'the', ' ', 'ensuing', ' ', 'weeks', ',', '', ' ', 'I', ' ', 'claimed', ' ', 'it', ' ', 'frequently', '.', '', ' ', 'It', ' ', 'was', ' ', 'not', ' ', 'that', ' ', 'my', ' ', 'hostess', ' ', 'was', ' ', '', '\"', 'interesting', '\"', '', ':', '', ' ', 'on', ' ', 'that', ' ', 'point', ' ', 'I', ' ', 'could', ' ', 'have', ' ', 'given', ' ', 'Miss', ' ', 'Croft', ' ', 'the', ' ', 'fullest', ' ', 'reassurance', '.', '', ' ', 'It', ' ', 'was', ' ', 'just', ' ', 'because', ' ', 'she', ' ', 'was', ' ', '', '_', 'not', '_', '', ' ', 'interesting', '--', 'if', ' ', 'I', ' ', 'may', ' ', 'be', ' ', 'pardoned', ' ', 'the', ' ', 'bull', '--', 'that', ' ', 'I', ' ', 'found', ' ', 'her', ' ', 'so', '.', '', ' ', 'For', ' ', 'Jack', ',', '', ' ', 'all', ' ', 'his', ' ', 'life', ',', '', ' ', 'had', ' ', 'been', ' ', 'surrounded', ' ', 'by', ' ', 'interesting', ' ', 'women', ':', '', ' ', 'they', ' ', 'had', ' ', 'fostered', ' ', 'his', ' ', 'art', ',', '', ' ', 'it', ' ', 'had', ' ', 'been', ' ', 'reared', ' ', 'in', ' ', 'the', ' ', 'hot-house', ' ', 'of', ' ', 'their', ' ', 'adulation', '.', '', ' ', 'And', ' ', 'it', ' ', 'was', ' ', 'therefore', ' ', 'instructive', ' ', 'to', ' ', 'note', ' ', 'what', ' ', 'effect', ' ', 'the', ' ', '', '\"', 'deadening', ' ', 'atmosphere', ' ', 'of', ' ', 'mediocrity', '\"', '', ' ', '', '(', 'I', ' ', 'quote', ' ', 'Miss', ' ', 'Croft', ')', '', ' ', 'was', ' ', 'having', ' ', 'on', ' ', 'him', '.', '', '\\n', '', '\\n', 'I', ' ', 'have', ' ', 'mentioned', ' ', 'that', ' ', 'Mrs', '.', '', ' ', 'Gisburn', ' ', 'was', ' ', 'rich', ';', '', ' ', 'and', ' ', 'it', ' ', 'was', ' ', 'immediately', ' ', 'perceptible', ' ', 'that', ' ', 'her', ' ', 'husband', ' ', 'was', ' ', 'extracting', ' ', 'from', ' ', 'this', ' ', 'circumstance', ' ', 'a', ' ', 'delicate', ' ', 'but', ' ', 'substantial', ' ', 'satisfaction', '.', '', ' ', 'It', ' ', 'is', ',', '', ' ', 'as', ' ', 'a', ' ', 'rule', ',', '', ' ', 'the', ' ', 'people', ' ', 'who', ' ', 'scorn', ' ', 'money', ' ', 'who', ' ', 'get', ' ', 'most', ' ', 'out', ' ', 'of', ' ', 'it', ';', '', ' ', 'and', ' ', 'Jack', \"'\", 's', ' ', 'elegant', ' ', 'disdain', ' ', 'of', ' ', 'his', ' ', 'wife', \"'\", 's', ' ', 'big', ' ', 'balance', ' ', 'enabled', ' ', 'him', ',', '', ' ', 'with', ' ', 'an', ' ', 'appearance', ' ', 'of', ' ', 'perfect', ' ', 'good-breeding', ',', '', ' ', 'to', ' ', 'transmute', ' ', 'it', ' ', 'into', ' ', 'objects', ' ', 'of', ' ', 'art', ' ', 'and', ' ', 'luxury', '.', '', ' ', 'To', ' ', 'the', ' ', 'latter', ',', '', ' ', 'I', ' ', 'must', ' ', 'add', ',', '', ' ', 'he', ' ', 'remained', ' ', 'relatively', ' ', 'indifferent', ';', '', ' ', 'but', ' ', 'he', ' ', 'was', ' ', 'buying', ' ', 'Renaissance', ' ', 'bronzes', ' ', 'and', ' ', 'eighteenth-century', ' ', 'pictures', ' ', 'with', ' ', 'a', ' ', 'discrimination', ' ', 'that', ' ', 'bespoke', ' ', 'the', ' ', 'amplest', ' ', 'resources', '.', '', '\\n', '', '\\n', '', '\"', 'Money', \"'\", 's', ' ', 'only', ' ', 'excuse', ' ', 'is', ' ', 'to', ' ', 'put', ' ', 'beauty', ' ', 'into', ' ', 'circulation', ',', '', '\"', '', ' ', 'was', ' ', 'one', ' ', 'of', ' ', 'the', ' ', 'axioms', ' ', 'he', ' ', 'laid', ' ', 'down', ' ', 'across', ' ', 'the', ' ', 'Sevres', ' ', 'and', ' ', 'silver', ' ', 'of', ' ', 'an', ' ', 'exquisitely', ' ', 'appointed', ' ', 'luncheon-table', ',', '', ' ', 'when', ',', '', ' ', 'on', ' ', 'a', ' ', 'later', ' ', 'day', ',', '', ' ', 'I', ' ', 'had', ' ', 'again', ' ', 'run', ' ', 'over', ' ', 'from', ' ', 'Monte', ' ', 'Carlo', ';', '', ' ', 'and', ' ', 'Mrs', '.', '', ' ', 'Gisburn', ',', '', ' ', 'beaming', ' ', 'on', ' ', 'him', ',', '', ' ', 'added', ' ', 'for', ' ', 'my', ' ', 'enlightenment', ':', '', ' ', '', '\"', 'Jack', ' ', 'is', ' ', 'so', ' ', 'morbidly', ' ', 'sensitive', ' ', 'to', ' ', 'every', ' ', 'form', ' ', 'of', ' ', 'beauty', '.', '', '\"', '', '\\n', '', '\\n', 'Poor', ' ', 'Jack', '!', '', ' ', 'It', ' ', 'had', ' ', 'always', ' ', 'been', ' ', 'his', ' ', 'fate', ' ', 'to', ' ', 'have', ' ', 'women', ' ', 'say', ' ', 'such', ' ', 'things', ' ', 'of', ' ', 'him', ':', '', ' ', 'the', ' ', 'fact', ' ', 'should', ' ', 'be', ' ', 'set', ' ', 'down', ' ', 'in', ' ', 'extenuation', '.', '', ' ', 'What', ' ', 'struck', ' ', 'me', ' ', 'now', ' ', 'was', ' ', 'that', ',', '', ' ', 'for', ' ', 'the', ' ', 'first', ' ', 'time', ',', '', ' ', 'he', ' ', 'resented', ' ', 'the', ' ', 'tone', '.', '', ' ', 'I', ' ', 'had', ' ', 'seen', ' ', 'him', ',', '', ' ', 'so', ' ', 'often', ',', '', ' ', 'basking', ' ', 'under', ' ', 'similar', ' ', 'tributes', '--', 'was', ' ', 'it', ' ', 'the', ' ', 'conjugal', ' ', 'note', ' ', 'that', ' ', 'robbed', ' ', 'them', ' ', 'of', ' ', 'their', ' ', 'savour', '?', '', ' ', 'No', '--', 'for', ',', '', ' ', 'oddly', ' ', 'enough', ',', '', ' ', 'it', ' ', 'became', ' ', 'apparent', ' ', 'that', ' ', 'he', ' ', 'was', ' ', 'fond', ' ', 'of', ' ', 'Mrs', '.', '', ' ', 'Gisburn', '--', 'fond', ' ', 'enough', ' ', 'not', ' ', 'to', ' ', 'see', ' ', 'her', ' ', 'absurdity', '.', '', ' ', 'It', ' ', 'was', ' ', 'his', ' ', 'own', ' ', 'absurdity', ' ', 'he', ' ', 'seemed', ' ', 'to', ' ', 'be', ' ', 'wincing', ' ', 'under', '--', 'his', ' ', 'own', ' ', 'attitude', ' ', 'as', ' ', 'an', ' ', 'object', ' ', 'for', ' ', 'garlands', ' ', 'and', ' ', 'incense', '.', '', '\\n', '', '\\n', '', '\"', 'My', ' ', 'dear', ',', '', ' ', 'since', ' ', 'I', \"'\", 've', ' ', 'chucked', ' ', 'painting', ' ', 'people', ' ', 'don', \"'\", 't', ' ', 'say', ' ', 'that', ' ', 'stuff', ' ', 'about', ' ', 'me', '--', 'they', ' ', 'say', ' ', 'it', ' ', 'about', ' ', 'Victor', ' ', 'Grindle', ',', '', '\"', '', ' ', 'was', ' ', 'his', ' ', 'only', ' ', 'protest', ',', '', ' ', 'as', ' ', 'he', ' ', 'rose', ' ', 'from', ' ', 'the', ' ', 'table', ' ', 'and', ' ', 'strolled', ' ', 'out', ' ', 'onto', ' ', 'the', ' ', 'sunlit', ' ', 'terrace', '.', '', '\\n', '', '\\n', 'I', ' ', 'glanced', ' ', 'after', ' ', 'him', ',', '', ' ', 'struck', ' ', 'by', ' ', 'his', ' ', 'last', ' ', 'word', '.', '', ' ', 'Victor', ' ', 'Grindle', ' ', 'was', ',', '', ' ', 'in', ' ', 'fact', ',', '', ' ', 'becoming', ' ', 'the', ' ', 'man', ' ', 'of', ' ', 'the', ' ', 'moment', '--', 'as', ' ', 'Jack', ' ', 'himself', ',', '', ' ', 'one', ' ', 'might', ' ', 'put', ' ', 'it', ',', '', ' ', 'had', ' ', 'been', ' ', 'the', ' ', 'man', ' ', 'of', ' ', 'the', ' ', 'hour', '.', '', ' ', 'The', ' ', 'younger', ' ', 'artist', ' ', 'was', ' ', 'said', ' ', 'to', ' ', 'have', ' ', 'formed', ' ', 'himself', ' ', 'at', ' ', 'my', ' ', 'friend', \"'\", 's', ' ', 'feet', ',', '', ' ', 'and', ' ', 'I', ' ', 'wondered', ' ', 'if', ' ', 'a', ' ', 'tinge', ' ', 'of', ' ', 'jealousy', ' ', 'underlay', ' ', 'the', ' ', 'latter', \"'\", 's', ' ', 'mysterious', ' ', 'abdication', '.', '', ' ', 'But', ' ', 'no', '--', 'for', ' ', 'it', ' ', 'was', ' ', 'not', ' ', 'till', ' ', 'after', ' ', 'that', ' ', 'event', ' ', 'that', ' ', 'the', ' ', '', '_', 'rose', ' ', 'Dubarry', '_', '', ' ', 'drawing-rooms', ' ', 'had', ' ', 'begun', ' ', 'to', ' ', 'display', ' ', 'their', ' ', '', '\"', 'Grindles', '.', '', '\"', '', '\\n', '', '\\n', 'I', ' ', 'turned', ' ', 'to', ' ', 'Mrs', '.', '', ' ', 'Gisburn', ',', '', ' ', 'who', ' ', 'had', ' ', 'lingered', ' ', 'to', ' ', 'give', ' ', 'a', ' ', 'lump', ' ', 'of', ' ', 'sugar', ' ', 'to', ' ', 'her', ' ', 'spaniel', ' ', 'in', ' ', 'the', ' ', 'dining-room', '.', '', '\\n', '', '\\n', '', '\"', 'Why', ' ', '', '_', 'has', '_', '', ' ', 'he', ' ', 'chucked', ' ', 'painting', '?', '', '\"', '', ' ', 'I', ' ', 'asked', ' ', 'abruptly', '.', '', '\\n', '', '\\n', 'She', ' ', 'raised', ' ', 'her', ' ', 'eyebrows', ' ', 'with', ' ', 'a', ' ', 'hint', ' ', 'of', ' ', 'good-humoured', ' ', 'surprise', '.', '', '\\n', '', '\\n', '', '\"', 'Oh', ',', '', ' ', 'he', ' ', 'doesn', \"'\", 't', ' ', '', '_', 'have', '_', '', ' ', 'to', ' ', 'now', ',', '', ' ', 'you', ' ', 'know', ';', '', ' ', 'and', ' ', 'I', ' ', 'want', ' ', 'him', ' ', 'to', ' ', 'enjoy', ' ', 'himself', ',', '', '\"', '', ' ', 'she', ' ', 'said', ' ', 'quite', ' ', 'simply', '.', '', '\\n', '', '\\n', 'I', ' ', 'looked', ' ', 'about', ' ', 'the', ' ', 'spacious', ' ', 'white-panelled', ' ', 'room', ',', '', ' ', 'with', ' ', 'its', ' ', '', '_', 'famille-verte', '_', '', ' ', 'vases', ' ', 'repeating', ' ', 'the', ' ', 'tones', ' ', 'of', ' ', 'the', ' ', 'pale', ' ', 'damask', ' ', 'curtains', ',', '', ' ', 'and', ' ', 'its', ' ', 'eighteenth-century', ' ', 'pastels', ' ', 'in', ' ', 'delicate', ' ', 'faded', ' ', 'frames', '.', '', '\\n', '', '\\n', '', '\"', 'Has', ' ', 'he', ' ', 'chucked', ' ', 'his', ' ', 'pictures', ' ', 'too', '?', '', ' ', 'I', ' ', 'haven', \"'\", 't', ' ', 'seen', ' ', 'a', ' ', 'single', ' ', 'one', ' ', 'in', ' ', 'the', ' ', 'house', '.', '', '\"', '', '\\n', '', '\\n', 'A', ' ', 'slight', ' ', 'shade', ' ', 'of', ' ', 'constraint', ' ', 'crossed', ' ', 'Mrs', '.', '', ' ', 'Gisburn', \"'\", 's', ' ', 'open', ' ', 'countenance', '.', '', ' ', '', '\"', 'It', \"'\", 's', ' ', 'his', ' ', 'ridiculous', ' ', 'modesty', ',', '', ' ', 'you', ' ', 'know', '.', '', ' ', 'He', ' ', 'says', ' ', 'they', \"'\", 're', ' ', 'not', ' ', 'fit', ' ', 'to', ' ', 'have', ' ', 'about', ';', '', ' ', 'he', \"'\", 's', ' ', 'sent', ' ', 'them', ' ', 'all', ' ', 'away', ' ', 'except', ' ', 'one', '--', 'my', ' ', 'portrait', '--', 'and', ' ', 'that', ' ', 'I', ' ', 'have', ' ', 'to', ' ', 'keep', ' ', 'upstairs', '.', '', '\"', '', '\\n', '', '\\n', 'His', ' ', 'ridiculous', ' ', 'modesty', '--', 'Jack', \"'\", 's', ' ', 'modesty', ' ', 'about', ' ', 'his', ' ', 'pictures', '?', '', ' ', 'My', ' ', 'curiosity', ' ', 'was', ' ', 'growing', ' ', 'like', ' ', 'the', ' ', 'bean-stalk', '.', '', ' ', 'I', ' ', 'said', ' ', 'persuasively', ' ', 'to', ' ', 'my', ' ', 'hostess', ':', '', ' ', '', '\"', 'I', ' ', 'must', ' ', 'really', ' ', 'see', ' ', 'your', ' ', 'portrait', ',', '', ' ', 'you', ' ', 'know', '.', '', '\"', '', '\\n', '', '\\n', 'She', ' ', 'glanced', ' ', 'out', ' ', 'almost', ' ', 'timorously', ' ', 'at', ' ', 'the', ' ', 'terrace', ' ', 'where', ' ', 'her', ' ', 'husband', ',', '', ' ', 'lounging', ' ', 'in', ' ', 'a', ' ', 'hooded', ' ', 'chair', ',', '', ' ', 'had', ' ', 'lit', ' ', 'a', ' ', 'cigar', ' ', 'and', ' ', 'drawn', ' ', 'the', ' ', 'Russian', ' ', 'deerhound', \"'\", 's', ' ', 'head', ' ', 'between', ' ', 'his', ' ', 'knees', '.', '', '\\n', '', '\\n', '', '\"', 'Well', ',', '', ' ', 'come', ' ', 'while', ' ', 'he', \"'\", 's', ' ', 'not', ' ', 'looking', ',', '', '\"', '', ' ', 'she', ' ', 'said', ',', '', ' ', 'with', ' ', 'a', ' ', 'laugh', ' ', 'that', ' ', 'tried', ' ', 'to', ' ', 'hide', ' ', 'her', ' ', 'nervousness', ';', '', ' ', 'and', ' ', 'I', ' ', 'followed', ' ', 'her', ' ', 'between', ' ', 'the', ' ', 'marble', ' ', 'Emperors', ' ', 'of', ' ', 'the', ' ', 'hall', ',', '', ' ', 'and', ' ', 'up', ' ', 'the', ' ', 'wide', ' ', 'stairs', ' ', 'with', ' ', 'terra-cotta', ' ', 'nymphs', ' ', 'poised', ' ', 'among', ' ', 'flowers', ' ', 'at', ' ', 'each', ' ', 'landing', '.', '', '\\n', '', '\\n', 'In', ' ', 'the', ' ', 'dimmest', ' ', 'corner', ' ', 'of', ' ', 'her', ' ', 'boudoir', ',', '', ' ', 'amid', ' ', 'a', ' ', 'profusion', ' ', 'of', ' ', 'delicate', ' ', 'and', ' ', 'distinguished', ' ', 'objects', ',', '', ' ', 'hung', ' ', 'one', ' ', 'of', ' ', 'the', ' ', 'familiar', ' ', 'oval', ' ', 'canvases', ',', '', ' ', 'in', ' ', 'the', ' ', 'inevitable', ' ', 'garlanded', ' ', 'frame', '.', '', ' ', 'The', ' ', 'mere', ' ', 'outline', ' ', 'of', ' ', 'the', ' ', 'frame', ' ', 'called', ' ', 'up', ' ', 'all', ' ', 'Gisburn', \"'\", 's', ' ', 'past', '!', '', '\\n', '', '\\n', 'Mrs', '.', '', ' ', 'Gisburn', ' ', 'drew', ' ', 'back', ' ', 'the', ' ', 'window-curtains', ',', '', ' ', 'moved', ' ', 'aside', ' ', 'a', ' ', '', '_', 'jardiniere', '_', '', ' ', 'full', ' ', 'of', ' ', 'pink', ' ', 'azaleas', ',', '', ' ', 'pushed', ' ', 'an', ' ', 'arm-chair', ' ', 'away', ',', '', ' ', 'and', ' ', 'said', ':', '', ' ', '', '\"', 'If', ' ', 'you', ' ', 'stand', ' ', 'here', ' ', 'you', ' ', 'can', ' ', 'just', ' ', 'manage', ' ', 'to', ' ', 'see', ' ', 'it', '.', '', ' ', 'I', ' ', 'had', ' ', 'it', ' ', 'over', ' ', 'the', ' ', 'mantel-piece', ',', '', ' ', 'but', ' ', 'he', ' ', 'wouldn', \"'\", 't', ' ', 'let', ' ', 'it', ' ', 'stay', '.', '', '\"', '', '\\n', '', '\\n', 'Yes', '--', 'I', ' ', 'could', ' ', 'just', ' ', 'manage', ' ', 'to', ' ', 'see', ' ', 'it', '--', 'the', ' ', 'first', ' ', 'portrait', ' ', 'of', ' ', 'Jack', \"'\", 's', ' ', 'I', ' ', 'had', ' ', 'ever', ' ', 'had', ' ', 'to', ' ', 'strain', ' ', 'my', ' ', 'eyes', ' ', 'over', '!', '', ' ', 'Usually', ' ', 'they', ' ', 'had', ' ', 'the', ' ', 'place', ' ', 'of', ' ', 'honour', '--', 'say', ' ', 'the', ' ', 'central', ' ', 'panel', ' ', 'in', ' ', 'a', ' ', 'pale', ' ', 'yellow', ' ', 'or', ' ', '', '_', 'rose', ' ', 'Dubarry', '_', '', ' ', 'drawing-room', ',', '', ' ', 'or', ' ', 'a', ' ', 'monumental', ' ', 'easel', ' ', 'placed', ' ', 'so', ' ', 'that', ' ', 'it', ' ', 'took', ' ', 'the', ' ', 'light', ' ', 'through', ' ', 'curtains', ' ', 'of', ' ', 'old', ' ', 'Venetian', ' ', 'point', '.', '', ' ', 'The', ' ', 'more', ' ', 'modest', ' ', 'place', ' ', 'became', ' ', 'the', ' ', 'picture', ' ', 'better', ';', '', ' ', 'yet', ',', '', ' ', 'as', ' ', 'my', ' ', 'eyes', ' ', 'grew', ' ', 'accustomed', ' ', 'to', ' ', 'the', ' ', 'half-light', ',', '', ' ', 'all', ' ', 'the', ' ', 'characteristic', ' ', 'qualities', ' ', 'came', ' ', 'out', '--', 'all', ' ', 'the', ' ', 'hesitations', ' ', 'disguised', ' ', 'as', ' ', 'audacities', ',', '', ' ', 'the', ' ', 'tricks', ' ', 'of', ' ', 'prestidigitation', ' ', 'by', ' ', 'which', ',', '', ' ', 'with', ' ', 'such', ' ', 'consummate', ' ', 'skill', ',', '', ' ', 'he', ' ', 'managed', ' ', 'to', ' ', 'divert', ' ', 'attention', ' ', 'from', ' ', 'the', ' ', 'real', ' ', 'business', ' ', 'of', ' ', 'the', ' ', 'picture', ' ', 'to', ' ', 'some', ' ', 'pretty', ' ', 'irrelevance', ' ', 'of', ' ', 'detail', '.', '', ' ', 'Mrs', '.', '', ' ', 'Gisburn', ',', '', ' ', 'presenting', ' ', 'a', ' ', 'neutral', ' ', 'surface', ' ', 'to', ' ', 'work', ' ', 'on', '--', 'forming', ',', '', ' ', 'as', ' ', 'it', ' ', 'were', ',', '', ' ', 'so', ' ', 'inevitably', ' ', 'the', ' ', 'background', ' ', 'of', ' ', 'her', ' ', 'own', ' ', 'picture', '--', 'had', ' ', 'lent', ' ', 'herself', ' ', 'in', ' ', 'an', ' ', 'unusual', ' ', 'degree', ' ', 'to', ' ', 'the', ' ', 'display', ' ', 'of', ' ', 'this', ' ', 'false', ' ', 'virtuosity', '.', '', ' ', 'The', ' ', 'picture', ' ', 'was', ' ', 'one', ' ', 'of', ' ', 'Jack', \"'\", 's', ' ', '', '\"', 'strongest', ',', '', '\"', '', ' ', 'as', ' ', 'his', ' ', 'admirers', ' ', 'would', ' ', 'have', ' ', 'put', ' ', 'it', '--', 'it', ' ', 'represented', ',', '', ' ', 'on', ' ', 'his', ' ', 'part', ',', '', ' ', 'a', ' ', 'swelling', ' ', 'of', ' ', 'muscles', ',', '', ' ', 'a', ' ', 'congesting', ' ', 'of', ' ', 'veins', ',', '', ' ', 'a', ' ', 'balancing', ',', '', ' ', 'straddling', ' ', 'and', ' ', 'straining', ',', '', ' ', 'that', ' ', 'reminded', ' ', 'one', ' ', 'of', ' ', 'the', ' ', 'circus-clown', \"'\", 's', ' ', 'ironic', ' ', 'efforts', ' ', 'to', ' ', 'lift', ' ', 'a', ' ', 'feather', '.', '', ' ', 'It', ' ', 'met', ',', '', ' ', 'in', ' ', 'short', ',', '', ' ', 'at', ' ', 'every', ' ', 'point', ' ', 'the', ' ', 'demand', ' ', 'of', ' ', 'lovely', ' ', 'woman', ' ', 'to', ' ', 'be', ' ', 'painted', ' ', '', '\"', 'strongly', '\"', '', ' ', 'because', ' ', 'she', ' ', 'was', ' ', 'tired', ' ', 'of', ' ', 'being', ' ', 'painted', ' ', '', '\"', 'sweetly', '\"', '', '--', 'and', ' ', 'yet', ' ', 'not', ' ', 'to', ' ', 'lose', ' ', 'an', ' ', 'atom', ' ', 'of', ' ', 'the', ' ', 'sweetness', '.', '', '\\n', '', '\\n', '', '\"', 'It', \"'\", 's', ' ', 'the', ' ', 'last', ' ', 'he', ' ', 'painted', ',', '', ' ', 'you', ' ', 'know', ',', '', '\"', '', ' ', 'Mrs', '.', '', ' ', 'Gisburn', ' ', 'said', ' ', 'with', ' ', 'pardonable', ' ', 'pride', '.', '', ' ', '', '\"', 'The', ' ', 'last', ' ', 'but', ' ', 'one', ',', '', '\"', '', ' ', 'she', ' ', 'corrected', ' ', 'herself', '--', '', '\"', 'but', ' ', 'the', ' ', 'other', ' ', 'doesn', \"'\", 't', ' ', 'count', ',', '', ' ', 'because', ' ', 'he', ' ', 'destroyed', ' ', 'it', '.', '', '\"', '', '\\n', '', '\\n', '', '\"', 'Destroyed', ' ', 'it', '?', '', '\"', '', ' ', 'I', ' ', 'was', ' ', 'about', ' ', 'to', ' ', 'follow', ' ', 'up', ' ', 'this', ' ', 'clue', ' ', 'when', ' ', 'I', ' ', 'heard', ' ', 'a', ' ', 'footstep', ' ', 'and', ' ', 'saw', ' ', 'Jack', ' ', 'himself', ' ', 'on', ' ', 'the', ' ', 'threshold', '.', '', '\\n', '', '\\n', 'As', ' ', 'he', ' ', 'stood', ' ', 'there', ',', '', ' ', 'his', ' ', 'hands', ' ', 'in', ' ', 'the', ' ', 'pockets', ' ', 'of', ' ', 'his', ' ', 'velveteen', ' ', 'coat', ',', '', ' ', 'the', ' ', 'thin', ' ', 'brown', ' ', 'waves', ' ', 'of', ' ', 'hair', ' ', 'pushed', ' ', 'back', ' ', 'from', ' ', 'his', ' ', 'white', ' ', 'forehead', ',', '', ' ', 'his', ' ', 'lean', ' ', 'sunburnt', ' ', 'cheeks', ' ', 'furrowed', ' ', 'by', ' ', 'a', ' ', 'smile', ' ', 'that', ' ', 'lifted', ' ', 'the', ' ', 'tips', ' ', 'of', ' ', 'a', ' ', 'self-confident', ' ', 'moustache', ',', '', ' ', 'I', ' ', 'felt', ' ', 'to', ' ', 'what', ' ', 'a', ' ', 'degree', ' ', 'he', ' ', 'had', ' ', 'the', ' ', 'same', ' ', 'quality', ' ', 'as', ' ', 'his', ' ', 'pictures', '--', 'the', ' ', 'quality', ' ', 'of', ' ', 'looking', ' ', 'cleverer', ' ', 'than', ' ', 'he', ' ', 'was', '.', '', '\\n', '', '\\n', 'His', ' ', 'wife', ' ', 'glanced', ' ', 'at', ' ', 'him', ' ', 'deprecatingly', ',', '', ' ', 'but', ' ', 'his', ' ', 'eyes', ' ', 'travelled', ' ', 'past', ' ', 'her', ' ', 'to', ' ', 'the', ' ', 'portrait', '.', '', '\\n', '', '\\n', '', '\"', 'Mr', '.', '', ' ', 'Rickham', ' ', 'wanted', ' ', 'to', ' ', 'see', ' ', 'it', ',', '', '\"', '', ' ', 'she', ' ', 'began', ',', '', ' ', 'as', ' ', 'if', ' ', 'excusing', ' ', 'herself', '.', '', ' ', 'He', ' ', 'shrugged', ' ', 'his', ' ', 'shoulders', ',', '', ' ', 'still', ' ', 'smiling', '.', '', '\\n', '', '\\n', '', '\"', 'Oh', ',', '', ' ', 'Rickham', ' ', 'found', ' ', 'me', ' ', 'out', ' ', 'long', ' ', 'ago', ',', '', '\"', '', ' ', 'he', ' ', 'said', ' ', 'lightly', ';', '', ' ', 'then', ',', '', ' ', 'passing', ' ', 'his', ' ', 'arm', ' ', 'through', ' ', 'mine', ':', '', ' ', '', '\"', 'Come', ' ', 'and', ' ', 'see', ' ', 'the', ' ', 'rest', ' ', 'of', ' ', 'the', ' ', 'house', '.', '', '\"', '', '\\n', '', '\\n', 'He', ' ', 'showed', ' ', 'it', ' ', 'to', ' ', 'me', ' ', 'with', ' ', 'a', ' ', 'kind', ' ', 'of', ' ', 'naive', ' ', 'suburban', ' ', 'pride', ':', '', ' ', 'the', ' ', 'bath-rooms', ',', '', ' ', 'the', ' ', 'speaking-tubes', ',', '', ' ', 'the', ' ', 'dress-closets', ',', '', ' ', 'the', ' ', 'trouser-presses', '--', 'all', ' ', 'the', ' ', 'complex', ' ', 'simplifications', ' ', 'of', ' ', 'the', ' ', 'millionaire', \"'\", 's', ' ', 'domestic', ' ', 'economy', '.', '', ' ', 'And', ' ', 'whenever', ' ', 'my', ' ', 'wonder', ' ', 'paid', ' ', 'the', ' ', 'expected', ' ', 'tribute', ' ', 'he', ' ', 'said', ',', '', ' ', 'throwing', ' ', 'out', ' ', 'his', ' ', 'chest', ' ', 'a', ' ', 'little', ':', '', ' ', '', '\"', 'Yes', ',', '', ' ', 'I', ' ', 'really', ' ', 'don', \"'\", 't', ' ', 'see', ' ', 'how', ' ', 'people', ' ', 'manage', ' ', 'to', ' ', 'live', ' ', 'without', ' ', 'that', '.', '', '\"', '', '\\n', '', '\\n', 'Well', '--', 'it', ' ', 'was', ' ', 'just', ' ', 'the', ' ', 'end', ' ', 'one', ' ', 'might', ' ', 'have', ' ', 'foreseen', ' ', 'for', ' ', 'him', '.', '', ' ', 'Only', ' ', 'he', ' ', 'was', ',', '', ' ', 'through', ' ', 'it', ' ', 'all', ' ', 'and', ' ', 'in', ' ', 'spite', ' ', 'of', ' ', 'it', ' ', 'all', '--', 'as', ' ', 'he', ' ', 'had', ' ', 'been', ' ', 'through', ',', '', ' ', 'and', ' ', 'in', ' ', 'spite', ' ', 'of', ',', '', ' ', 'his', ' ', 'pictures', '--', 'so', ' ', 'handsome', ',', '', ' ', 'so', ' ', 'charming', ',', '', ' ', 'so', ' ', 'disarming', ',', '', ' ', 'that', ' ', 'one', ' ', 'longed', ' ', 'to', ' ', 'cry', ' ', 'out', ':', '', ' ', '', '\"', 'Be', ' ', 'dissatisfied', ' ', 'with', ' ', 'your', ' ', 'leisure', '!', '', '\"', '', ' ', 'as', ' ', 'once', ' ', 'one', ' ', 'had', ' ', 'longed', ' ', 'to', ' ', 'say', ':', '', ' ', '', '\"', 'Be', ' ', 'dissatisfied', ' ', 'with', ' ', 'your', ' ', 'work', '!', '', '\"', '', '\\n', '', '\\n', 'But', ',', '', ' ', 'with', ' ', 'the', ' ', 'cry', ' ', 'on', ' ', 'my', ' ', 'lips', ',', '', ' ', 'my', ' ', 'diagnosis', ' ', 'suffered', ' ', 'an', ' ', 'unexpected', ' ', 'check', '.', '', '\\n', '', '\\n', '', '\"', 'This', ' ', 'is', ' ', 'my', ' ', 'own', ' ', 'lair', ',', '', '\"', '', ' ', 'he', ' ', 'said', ',', '', ' ', 'leading', ' ', 'me', ' ', 'into', ' ', 'a', ' ', 'dark', ' ', 'plain', ' ', 'room', ' ', 'at', ' ', 'the', ' ', 'end', ' ', 'of', ' ', 'the', ' ', 'florid', ' ', 'vista', '.', '', ' ', 'It', ' ', 'was', ' ', 'square', ' ', 'and', ' ', 'brown', ' ', 'and', ' ', 'leathery', ':', '', ' ', 'no', ' ', '', '\"', 'effects', '\"', '', ';', '', ' ', 'no', ' ', 'bric-a-brac', ',', '', ' ', 'none', ' ', 'of', ' ', 'the', ' ', 'air', ' ', 'of', ' ', 'posing', ' ', 'for', ' ', 'reproduction', ' ', 'in', ' ', 'a', ' ', 'picture', ' ', 'weekly', '--', 'above', ' ', 'all', ',', '', ' ', 'no', ' ', 'least', ' ', 'sign', ' ', 'of', ' ', 'ever', ' ', 'having', ' ', 'been', ' ', 'used', ' ', 'as', ' ', 'a', ' ', 'studio', '.', '', '\\n', '', '\\n', 'The', ' ', 'fact', ' ', 'brought', ' ', 'home', ' ', 'to', ' ', 'me', ' ', 'the', ' ', 'absolute', ' ', 'finality', ' ', 'of', ' ', 'Jack', \"'\", 's', ' ', 'break', ' ', 'with', ' ', 'his', ' ', 'old', ' ', 'life', '.', '', '\\n', '', '\\n', '', '\"', 'Don', \"'\", 't', ' ', 'you', ' ', 'ever', ' ', 'dabble', ' ', 'with', ' ', 'paint', ' ', 'any', ' ', 'more', '?', '', '\"', '', ' ', 'I', ' ', 'asked', ',', '', ' ', 'still', ' ', 'looking', ' ', 'about', ' ', 'for', ' ', 'a', ' ', 'trace', ' ', 'of', ' ', 'such', ' ', 'activity', '.', '', '\\n', '', '\\n', '', '\"', 'Never', ',', '', '\"', '', ' ', 'he', ' ', 'said', ' ', 'briefly', '.', '', '\\n', '', '\\n', '', '\"', 'Or', ' ', 'water-colour', '--', 'or', ' ', 'etching', '?', '', '\"', '', '\\n', '', '\\n', 'His', ' ', 'confident', ' ', 'eyes', ' ', 'grew', ' ', 'dim', ',', '', ' ', 'and', ' ', 'his', ' ', 'cheeks', ' ', 'paled', ' ', 'a', ' ', 'little', ' ', 'under', ' ', 'their', ' ', 'handsome', ' ', 'sunburn', '.', '', '\\n', '', '\\n', '', '\"', 'Never', ' ', 'think', ' ', 'of', ' ', 'it', ',', '', ' ', 'my', ' ', 'dear', ' ', 'fellow', '--', 'any', ' ', 'more', ' ', 'than', ' ', 'if', ' ', 'I', \"'\", 'd', ' ', 'never', ' ', 'touched', ' ', 'a', ' ', 'brush', '.', '', '\"', '', '\\n', '', '\\n', 'And', ' ', 'his', ' ', 'tone', ' ', 'told', ' ', 'me', ' ', 'in', ' ', 'a', ' ', 'flash', ' ', 'that', ' ', 'he', ' ', 'never', ' ', 'thought', ' ', 'of', ' ', 'anything', ' ', 'else', '.', '', '\\n', '', '\\n', 'I', ' ', 'moved', ' ', 'away', ',', '', ' ', 'instinctively', ' ', 'embarrassed', ' ', 'by', ' ', 'my', ' ', 'unexpected', ' ', 'discovery', ';', '', ' ', 'and', ' ', 'as', ' ', 'I', ' ', 'turned', ',', '', ' ', 'my', ' ', 'eye', ' ', 'fell', ' ', 'on', ' ', 'a', ' ', 'small', ' ', 'picture', ' ', 'above', ' ', 'the', ' ', 'mantel-piece', '--', 'the', ' ', 'only', ' ', 'object', ' ', 'breaking', ' ', 'the', ' ', 'plain', ' ', 'oak', ' ', 'panelling', ' ', 'of', ' ', 'the', ' ', 'room', '.', '', '\\n', '', '\\n', '', '\"', 'Oh', ',', '', ' ', 'by', ' ', 'Jove', '!', '', '\"', '', ' ', 'I', ' ', 'said', '.', '', '\\n', '', '\\n', 'It', ' ', 'was', ' ', 'a', ' ', 'sketch', ' ', 'of', ' ', 'a', ' ', 'donkey', '--', 'an', ' ', 'old', ' ', 'tired', ' ', 'donkey', ',', '', ' ', 'standing', ' ', 'in', ' ', 'the', ' ', 'rain', ' ', 'under', ' ', 'a', ' ', 'wall', '.', '', '\\n', '', '\\n', '', '\"', 'By', ' ', 'Jove', '--', 'a', ' ', 'Stroud', '!', '', '\"', '', ' ', 'I', ' ', 'cried', '.', '', '\\n', '', '\\n', 'He', ' ', 'was', ' ', 'silent', ';', '', ' ', 'but', ' ', 'I', ' ', 'felt', ' ', 'him', ' ', 'close', ' ', 'behind', ' ', 'me', ',', '', ' ', 'breathing', ' ', 'a', ' ', 'little', ' ', 'quickly', '.', '', '\\n', '', '\\n', '', '\"', 'What', ' ', 'a', ' ', 'wonder', '!', '', ' ', 'Made', ' ', 'with', ' ', 'a', ' ', 'dozen', ' ', 'lines', '--', 'but', ' ', 'on', ' ', 'everlasting', ' ', 'foundations', '.', '', ' ', 'You', ' ', 'lucky', ' ', 'chap', ',', '', ' ', 'where', ' ', 'did', ' ', 'you', ' ', 'get', ' ', 'it', '?', '', '\"', '', '\\n', '', '\\n', 'He', ' ', 'answered', ' ', 'slowly', ':', '', ' ', '', '\"', 'Mrs', '.', '', ' ', 'Stroud', ' ', 'gave', ' ', 'it', ' ', 'to', ' ', 'me', '.', '', '\"', '', '\\n', '', '\\n', '', '\"', 'Ah', '--', 'I', ' ', 'didn', \"'\", 't', ' ', 'know', ' ', 'you', ' ', 'even', ' ', 'knew', ' ', 'the', ' ', 'Strouds', '.', '', ' ', 'He', ' ', 'was', ' ', 'such', ' ', 'an', ' ', 'inflexible', ' ', 'hermit', '.', '', '\"', '', '\\n', '', '\\n', '', '\"', 'I', ' ', 'didn', \"'\", 't', '--', 'till', ' ', 'after', '.', '', ' ', '', '.', '', ' ', '', '.', '', ' ', '', '.', '', ' ', 'She', ' ', 'sent', ' ', 'for', ' ', 'me', ' ', 'to', ' ', 'paint', ' ', 'him', ' ', 'when', ' ', 'he', ' ', 'was', ' ', 'dead', '.', '', '\"', '', '\\n', '', '\\n', '', '\"', 'When', ' ', 'he', ' ', 'was', ' ', 'dead', '?', '', ' ', 'You', '?', '', '\"', '', '\\n', '', '\\n', 'I', ' ', 'must', ' ', 'have', ' ', 'let', ' ', 'a', ' ', 'little', ' ', 'too', ' ', 'much', ' ', 'amazement', ' ', 'escape', ' ', 'through', ' ', 'my', ' ', 'surprise', ',', '', ' ', 'for', ' ', 'he', ' ', 'answered', ' ', 'with', ' ', 'a', ' ', 'deprecating', ' ', 'laugh', ':', '', ' ', '', '\"', 'Yes', '--', 'she', \"'\", 's', ' ', 'an', ' ', 'awful', ' ', 'simpleton', ',', '', ' ', 'you', ' ', 'know', ',', '', ' ', 'Mrs', '.', '', ' ', 'Stroud', '.', '', ' ', 'Her', ' ', 'only', ' ', 'idea', ' ', 'was', ' ', 'to', ' ', 'have', ' ', 'him', ' ', 'done', ' ', 'by', ' ', 'a', ' ', 'fashionable', ' ', 'painter', '--', 'ah', ',', '', ' ', 'poor', ' ', 'Stroud', '!', '', ' ', 'She', ' ', 'thought', ' ', 'it', ' ', 'the', ' ', 'surest', ' ', 'way', ' ', 'of', ' ', 'proclaiming', ' ', 'his', ' ', 'greatness', '--', 'of', ' ', 'forcing', ' ', 'it', ' ', 'on', ' ', 'a', ' ', 'purblind', ' ', 'public', '.', '', ' ', 'And', ' ', 'at', ' ', 'the', ' ', 'moment', ' ', 'I', ' ', 'was', ' ', '', '_', 'the', '_', '', ' ', 'fashionable', ' ', 'painter', '.', '', '\"', '', '\\n', '', '\\n', '', '\"', 'Ah', ',', '', ' ', 'poor', ' ', 'Stroud', '--', 'as', ' ', 'you', ' ', 'say', '.', '', ' ', 'Was', ' ', '', '_', 'that', '_', '', ' ', 'his', ' ', 'history', '?', '', '\"', '', '\\n', '', '\\n', '', '\"', 'That', ' ', 'was', ' ', 'his', ' ', 'history', '.', '', ' ', 'She', ' ', 'believed', ' ', 'in', ' ', 'him', ',', '', ' ', 'gloried', ' ', 'in', ' ', 'him', '--', 'or', ' ', 'thought', ' ', 'she', ' ', 'did', '.', '', ' ', 'But', ' ', 'she', ' ', 'couldn', \"'\", 't', ' ', 'bear', ' ', 'not', ' ', 'to', ' ', 'have', ' ', 'all', ' ', 'the', ' ', 'drawing-rooms', ' ', 'with', ' ', 'her', '.', '', ' ', 'She', ' ', 'couldn', \"'\", 't', ' ', 'bear', ' ', 'the', ' ', 'fact', ' ', 'that', ',', '', ' ', 'on', ' ', 'varnishing', ' ', 'days', ',', '', ' ', 'one', ' ', 'could', ' ', 'always', ' ', 'get', ' ', 'near', ' ', 'enough', ' ', 'to', ' ', 'see', ' ', 'his', ' ', 'pictures', '.', '', ' ', 'Poor', ' ', 'woman', '!', '', ' ', 'She', \"'\", 's', ' ', 'just', ' ', 'a', ' ', 'fragment', ' ', 'groping', ' ', 'for', ' ', 'other', ' ', 'fragments', '.', '', ' ', 'Stroud', ' ', 'is', ' ', 'the', ' ', 'only', ' ', 'whole', ' ', 'I', ' ', 'ever', ' ', 'knew', '.', '', '\"', '', '\\n', '', '\\n', '', '\"', 'You', ' ', 'ever', ' ', 'knew', '?', '', ' ', 'But', ' ', 'you', ' ', 'just', ' ', 'said', '--', '', '\"', '', '\\n', '', '\\n', 'Gisburn', ' ', 'had', ' ', 'a', ' ', 'curious', ' ', 'smile', ' ', 'in', ' ', 'his', ' ', 'eyes', '.', '', '\\n', '', '\\n', '', '\"', 'Oh', ',', '', ' ', 'I', ' ', 'knew', ' ', 'him', ',', '', ' ', 'and', ' ', 'he', ' ', 'knew', ' ', 'me', '--', 'only', ' ', 'it', ' ', 'happened', ' ', 'after', ' ', 'he', ' ', 'was', ' ', 'dead', '.', '', '\"', '', '\\n', '', '\\n', 'I', ' ', 'dropped', ' ', 'my', ' ', 'voice', ' ', 'instinctively', '.', '', ' ', '', '\"', 'When', ' ', 'she', ' ', 'sent', ' ', 'for', ' ', 'you', '?', '', '\"', '', '\\n', '', '\\n', '', '\"', 'Yes', '--', 'quite', ' ', 'insensible', ' ', 'to', ' ', 'the', ' ', 'irony', '.', '', ' ', 'She', ' ', 'wanted', ' ', 'him', ' ', 'vindicated', '--', 'and', ' ', 'by', ' ', 'me', '!', '', '\"', '', '\\n', '', '\\n', 'He', ' ', 'laughed', ' ', 'again', ',', '', ' ', 'and', ' ', 'threw', ' ', 'back', ' ', 'his', ' ', 'head', ' ', 'to', ' ', 'look', ' ', 'up', ' ', 'at', ' ', 'the', ' ', 'sketch', ' ', 'of', ' ', 'the', ' ', 'donkey', '.', '', ' ', '', '\"', 'There', ' ', 'were', ' ', 'days', ' ', 'when', ' ', 'I', ' ', 'couldn', \"'\", 't', ' ', 'look', ' ', 'at', ' ', 'that', ' ', 'thing', '--', 'couldn', \"'\", 't', ' ', 'face', ' ', 'it', '.', '', ' ', 'But', ' ', 'I', ' ', 'forced', ' ', 'myself', ' ', 'to', ' ', 'put', ' ', 'it', ' ', 'here', ';', '', ' ', 'and', ' ', 'now', ' ', 'it', \"'\", 's', ' ', 'cured', ' ', 'me', '--', 'cured', ' ', 'me', '.', '', ' ', 'That', \"'\", 's', ' ', 'the', ' ', 'reason', ' ', 'why', ' ', 'I', ' ', 'don', \"'\", 't', ' ', 'dabble', ' ', 'any', ' ', 'more', ',', '', ' ', 'my', ' ', 'dear', ' ', 'Rickham', ';', '', ' ', 'or', ' ', 'rather', ' ', 'Stroud', ' ', 'himself', ' ', 'is', ' ', 'the', ' ', 'reason', '.', '', '\"', '', '\\n', '', '\\n', 'For', ' ', 'the', ' ', 'first', ' ', 'time', ' ', 'my', ' ', 'idle', ' ', 'curiosity', ' ', 'about', ' ', 'my', ' ', 'companion', ' ', 'turned', ' ', 'into', ' ', 'a', ' ', 'serious', ' ', 'desire', ' ', 'to', ' ', 'understand', ' ', 'him', ' ', 'better', '.', '', '\\n', '', '\\n', '', '\"', 'I', ' ', 'wish', ' ', 'you', \"'\", 'd', ' ', 'tell', ' ', 'me', ' ', 'how', ' ', 'it', ' ', 'happened', ',', '', '\"', '', ' ', 'I', ' ', 'said', '.', '', '\\n', '', '\\n', 'He', ' ', 'stood', ' ', 'looking', ' ', 'up', ' ', 'at', ' ', 'the', ' ', 'sketch', ',', '', ' ', 'and', ' ', 'twirling', ' ', 'between', ' ', 'his', ' ', 'fingers', ' ', 'a', ' ', 'cigarette', ' ', 'he', ' ', 'had', ' ', 'forgotten', ' ', 'to', ' ', 'light', '.', '', ' ', 'Suddenly', ' ', 'he', ' ', 'turned', ' ', 'toward', ' ', 'me', '.', '', '\\n', '', '\\n', '', '\"', 'I', \"'\", 'd', ' ', 'rather', ' ', 'like', ' ', 'to', ' ', 'tell', ' ', 'you', '--', 'because', ' ', 'I', \"'\", 've', ' ', 'always', ' ', 'suspected', ' ', 'you', ' ', 'of', ' ', 'loathing', ' ', 'my', ' ', 'work', '.', '', '\"', '', '\\n', '', '\\n', 'I', ' ', 'made', ' ', 'a', ' ', 'deprecating', ' ', 'gesture', ',', '', ' ', 'which', ' ', 'he', ' ', 'negatived', ' ', 'with', ' ', 'a', ' ', 'good-humoured', ' ', 'shrug', '.', '', '\\n', '', '\\n', '', '\"', 'Oh', ',', '', ' ', 'I', ' ', 'didn', \"'\", 't', ' ', 'care', ' ', 'a', ' ', 'straw', ' ', 'when', ' ', 'I', ' ', 'believed', ' ', 'in', ' ', 'myself', '--', 'and', ' ', 'now', ' ', 'it', \"'\", 's', ' ', 'an', ' ', 'added', ' ', 'tie', ' ', 'between', ' ', 'us', '!', '', '\"', '', '\\n', '', '\\n', 'He', ' ', 'laughed', ' ', 'slightly', ',', '', ' ', 'without', ' ', 'bitterness', ',', '', ' ', 'and', ' ', 'pushed', ' ', 'one', ' ', 'of', ' ', 'the', ' ', 'deep', ' ', 'arm-chairs', ' ', 'forward', '.', '', ' ', '', '\"', 'There', ':', '', ' ', 'make', ' ', 'yourself', ' ', 'comfortable', '--', 'and', ' ', 'here', ' ', 'are', ' ', 'the', ' ', 'cigars', ' ', 'you', ' ', 'like', '.', '', '\"', '', '\\n', '', '\\n', 'He', ' ', 'placed', ' ', 'them', ' ', 'at', ' ', 'my', ' ', 'elbow', ' ', 'and', ' ', 'continued', ' ', 'to', ' ', 'wander', ' ', 'up', ' ', 'and', ' ', 'down', ' ', 'the', ' ', 'room', ',', '', ' ', 'stopping', ' ', 'now', ' ', 'and', ' ', 'then', ' ', 'beneath', ' ', 'the', ' ', 'picture', '.', '', '\\n', '', '\\n', '', '\"', 'How', ' ', 'it', ' ', 'happened', '?', '', ' ', 'I', ' ', 'can', ' ', 'tell', ' ', 'you', ' ', 'in', ' ', 'five', ' ', 'minutes', '--', 'and', ' ', 'it', ' ', 'didn', \"'\", 't', ' ', 'take', ' ', 'much', ' ', 'longer', ' ', 'to', ' ', 'happen', '.', '', ' ', '', '.', '', ' ', '', '.', '', ' ', '', '.', '', ' ', 'I', ' ', 'can', ' ', 'remember', ' ', 'now', ' ', 'how', ' ', 'surprised', ' ', 'and', ' ', 'pleased', ' ', 'I', ' ', 'was', ' ', 'when', ' ', 'I', ' ', 'got', ' ', 'Mrs', '.', '', ' ', 'Stroud', \"'\", 's', ' ', 'note', '.', '', ' ', 'Of', ' ', 'course', ',', '', ' ', 'deep', ' ', 'down', ',', '', ' ', 'I', ' ', 'had', ' ', 'always', ' ', '', '_', 'felt', '_', '', ' ', 'there', ' ', 'was', ' ', 'no', ' ', 'one', ' ', 'like', ' ', 'him', '--', 'only', ' ', 'I', ' ', 'had', ' ', 'gone', ' ', 'with', ' ', 'the', ' ', 'stream', ',', '', ' ', 'echoed', ' ', 'the', ' ', 'usual', ' ', 'platitudes', ' ', 'about', ' ', 'him', ',', '', ' ', 'till', ' ', 'I', ' ', 'half', ' ', 'got', ' ', 'to', ' ', 'think', ' ', 'he', ' ', 'was', ' ', 'a', ' ', 'failure', ',', '', ' ', 'one', ' ', 'of', ' ', 'the', ' ', 'kind', ' ', 'that', ' ', 'are', ' ', 'left', ' ', 'behind', '.', '', ' ', 'By', ' ', 'Jove', ',', '', ' ', 'and', ' ', 'he', ' ', '', '_', 'was', '_', '', ' ', 'left', ' ', 'behind', '--', 'because', ' ', 'he', ' ', 'had', ' ', 'come', ' ', 'to', ' ', 'stay', '!', '', ' ', 'The', ' ', 'rest', ' ', 'of', ' ', 'us', ' ', 'had', ' ', 'to', ' ', 'let', ' ', 'ourselves', ' ', 'be', ' ', 'swept', ' ', 'along', ' ', 'or', ' ', 'go', ' ', 'under', ',', '', ' ', 'but', ' ', 'he', ' ', 'was', ' ', 'high', ' ', 'above', ' ', 'the', ' ', 'current', '--', 'on', ' ', 'everlasting', ' ', 'foundations', ',', '', ' ', 'as', ' ', 'you', ' ', 'say', '.', '', '\\n', '', '\\n', '', '\"', 'Well', ',', '', ' ', 'I', ' ', 'went', ' ', 'off', ' ', 'to', ' ', 'the', ' ', 'house', ' ', 'in', ' ', 'my', ' ', 'most', ' ', 'egregious', ' ', 'mood', '--', 'rather', ' ', 'moved', ',', '', ' ', 'Lord', ' ', 'forgive', ' ', 'me', ',', '', ' ', 'at', ' ', 'the', ' ', 'pathos', ' ', 'of', ' ', 'poor', ' ', 'Stroud', \"'\", 's', ' ', 'career', ' ', 'of', ' ', 'failure', ' ', 'being', ' ', 'crowned', ' ', 'by', ' ', 'the', ' ', 'glory', ' ', 'of', ' ', 'my', ' ', 'painting', ' ', 'him', '!', '', ' ', 'Of', ' ', 'course', ' ', 'I', ' ', 'meant', ' ', 'to', ' ', 'do', ' ', 'the', ' ', 'picture', ' ', 'for', ' ', 'nothing', '--', 'I', ' ', 'told', ' ', 'Mrs', '.', '', ' ', 'Stroud', ' ', 'so', ' ', 'when', ' ', 'she', ' ', 'began', ' ', 'to', ' ', 'stammer', ' ', 'something', ' ', 'about', ' ', 'her', ' ', 'poverty', '.', '', ' ', 'I', ' ', 'remember', ' ', 'getting', ' ', 'off', ' ', 'a', ' ', 'prodigious', ' ', 'phrase', ' ', 'about', ' ', 'the', ' ', 'honour', ' ', 'being', ' ', '', '_', 'mine', '_', '', '--', 'oh', ',', '', ' ', 'I', ' ', 'was', ' ', 'princely', ',', '', ' ', 'my', ' ', 'dear', ' ', 'Rickham', '!', '', ' ', 'I', ' ', 'was', ' ', 'posing', ' ', 'to', ' ', 'myself', ' ', 'like', ' ', 'one', ' ', 'of', ' ', 'my', ' ', 'own', ' ', 'sitters', '.', '', '\\n', '', '\\n', '', '\"', 'Then', ' ', 'I', ' ', 'was', ' ', 'taken', ' ', 'up', ' ', 'and', ' ', 'left', ' ', 'alone', ' ', 'with', ' ', 'him', '.', '', ' ', 'I', ' ', 'had', ' ', 'sent', ' ', 'all', ' ', 'my', ' ', 'traps', ' ', 'in', ' ', 'advance', ',', '', ' ', 'and', ' ', 'I', ' ', 'had', ' ', 'only', ' ', 'to', ' ', 'set', ' ', 'up', ' ', 'the', ' ', 'easel', ' ', 'and', ' ', 'get', ' ', 'to', ' ', 'work', '.', '', ' ', 'He', ' ', 'had', ' ', 'been', ' ', 'dead', ' ', 'only', ' ', 'twenty-four', ' ', 'hours', ',', '', ' ', 'and', ' ', 'he', ' ', 'died', ' ', 'suddenly', ',', '', ' ', 'of', ' ', 'heart', ' ', 'disease', ',', '', ' ', 'so', ' ', 'that', ' ', 'there', ' ', 'had', ' ', 'been', ' ', 'no', ' ', 'preliminary', ' ', 'work', ' ', 'of', ' ', 'destruction', '--', 'his', ' ', 'face', ' ', 'was', ' ', 'clear', ' ', 'and', ' ', 'untouched', '.', '', ' ', 'I', ' ', 'had', ' ', 'met', ' ', 'him', ' ', 'once', ' ', 'or', ' ', 'twice', ',', '', ' ', 'years', ' ', 'before', ',', '', ' ', 'and', ' ', 'thought', ' ', 'him', ' ', 'insignificant', ' ', 'and', ' ', 'dingy', '.', '', ' ', 'Now', ' ', 'I', ' ', 'saw', ' ', 'that', ' ', 'he', ' ', 'was', ' ', 'superb', '.', '', '\\n', '', '\\n', '', '\"', 'I', ' ', 'was', ' ', 'glad', ' ', 'at', ' ', 'first', ',', '', ' ', 'with', ' ', 'a', ' ', 'merely', ' ', 'aesthetic', ' ', 'satisfaction', ':', '', ' ', 'glad', ' ', 'to', ' ', 'have', ' ', 'my', ' ', 'hand', ' ', 'on', ' ', 'such', ' ', 'a', ' ', '', \"'\", 'subject', '.', '', \"'\", '', ' ', 'Then', ' ', 'his', ' ', 'strange', ' ', 'life-likeness', ' ', 'began', ' ', 'to', ' ', 'affect', ' ', 'me', ' ', 'queerly', '--', 'as', ' ', 'I', ' ', 'blocked', ' ', 'the', ' ', 'head', ' ', 'in', ' ', 'I', ' ', 'felt', ' ', 'as', ' ', 'if', ' ', 'he', ' ', 'were', ' ', 'watching', ' ', 'me', ' ', 'do', ' ', 'it', '.', '', ' ', 'The', ' ', 'sensation', ' ', 'was', ' ', 'followed', ' ', 'by', ' ', 'the', ' ', 'thought', ':', '', ' ', 'if', ' ', 'he', ' ', '', '_', 'were', '_', '', ' ', 'watching', ' ', 'me', ',', '', ' ', 'what', ' ', 'would', ' ', 'he', ' ', 'say', ' ', 'to', ' ', 'my', ' ', 'way', ' ', 'of', ' ', 'working', '?', '', ' ', 'My', ' ', 'strokes', ' ', 'began', ' ', 'to', ' ', 'go', ' ', 'a', ' ', 'little', ' ', 'wild', '--', 'I', ' ', 'felt', ' ', 'nervous', ' ', 'and', ' ', 'uncertain', '.', '', '\\n', '', '\\n', '', '\"', 'Once', ',', '', ' ', 'when', ' ', 'I', ' ', 'looked', ' ', 'up', ',', '', ' ', 'I', ' ', 'seemed', ' ', 'to', ' ', 'see', ' ', 'a', ' ', 'smile', ' ', 'behind', ' ', 'his', ' ', 'close', ' ', 'grayish', ' ', 'beard', '--', 'as', ' ', 'if', ' ', 'he', ' ', 'had', ' ', 'the', ' ', 'secret', ',', '', ' ', 'and', ' ', 'were', ' ', 'amusing', ' ', 'himself', ' ', 'by', ' ', 'holding', ' ', 'it', ' ', 'back', ' ', 'from', ' ', 'me', '.', '', ' ', 'That', ' ', 'exasperated', ' ', 'me', ' ', 'still', ' ', 'more', '.', '', ' ', 'The', ' ', 'secret', '?', '', ' ', 'Why', ',', '', ' ', 'I', ' ', 'had', ' ', 'a', ' ', 'secret', ' ', 'worth', ' ', 'twenty', ' ', 'of', ' ', 'his', '!', '', ' ', 'I', ' ', 'dashed', ' ', 'at', ' ', 'the', ' ', 'canvas', ' ', 'furiously', ',', '', ' ', 'and', ' ', 'tried', ' ', 'some', ' ', 'of', ' ', 'my', ' ', 'bravura', ' ', 'tricks', '.', '', ' ', 'But', ' ', 'they', ' ', 'failed', ' ', 'me', ',', '', ' ', 'they', ' ', 'crumbled', '.', '', ' ', 'I', ' ', 'saw', ' ', 'that', ' ', 'he', ' ', 'wasn', \"'\", 't', ' ', 'watching', ' ', 'the', ' ', 'showy', ' ', 'bits', '--', 'I', ' ', 'couldn', \"'\", 't', ' ', 'distract', ' ', 'his', ' ', 'attention', ';', '', ' ', 'he', ' ', 'just', ' ', 'kept', ' ', 'his', ' ', 'eyes', ' ', 'on', ' ', 'the', ' ', 'hard', ' ', 'passages', ' ', 'between', '.', '', ' ', 'Those', ' ', 'were', ' ', 'the', ' ', 'ones', ' ', 'I', ' ', 'had', ' ', 'always', ' ', 'shirked', ',', '', ' ', 'or', ' ', 'covered', ' ', 'up', ' ', 'with', ' ', 'some', ' ', 'lying', ' ', 'paint', '.', '', ' ', 'And', ' ', 'how', ' ', 'he', ' ', 'saw', ' ', 'through', ' ', 'my', ' ', 'lies', '!', '', '\\n', '', '\\n', '', '\"', 'I', ' ', 'looked', ' ', 'up', ' ', 'again', ',', '', ' ', 'and', ' ', 'caught', ' ', 'sight', ' ', 'of', ' ', 'that', ' ', 'sketch', ' ', 'of', ' ', 'the', ' ', 'donkey', ' ', 'hanging', ' ', 'on', ' ', 'the', ' ', 'wall', ' ', 'near', ' ', 'his', ' ', 'bed', '.', '', ' ', 'His', ' ', 'wife', ' ', 'told', ' ', 'me', ' ', 'afterward', ' ', 'it', ' ', 'was', ' ', 'the', ' ', 'last', ' ', 'thing', ' ', 'he', ' ', 'had', ' ', 'done', '--', 'just', ' ', 'a', ' ', 'note', ' ', 'taken', ' ', 'with', ' ', 'a', ' ', 'shaking', ' ', 'hand', ',', '', ' ', 'when', ' ', 'he', ' ', 'was', ' ', 'down', ' ', 'in', ' ', 'Devonshire', ' ', 'recovering', ' ', 'from', ' ', 'a', ' ', 'previous', ' ', 'heart', ' ', 'attack', '.', '', ' ', 'Just', ' ', 'a', ' ', 'note', '!', '', ' ', 'But', ' ', 'it', ' ', 'tells', ' ', 'his', ' ', 'whole', ' ', 'history', '.', '', ' ', 'There', ' ', 'are', ' ', 'years', ' ', 'of', ' ', 'patient', ' ', 'scornful', ' ', 'persistence', ' ', 'in', ' ', 'every', ' ', 'line', '.', '', ' ', 'A', ' ', 'man', ' ', 'who', ' ', 'had', ' ', 'swum', ' ', 'with', ' ', 'the', ' ', 'current', ' ', 'could', ' ', 'never', ' ', 'have', ' ', 'learned', ' ', 'that', ' ', 'mighty', ' ', 'up-stream', ' ', 'stroke', '.', '', ' ', '', '.', '', ' ', '', '.', '', ' ', '', '.', '', '\\n', '', '\\n', '', '\"', 'I', ' ', 'turned', ' ', 'back', ' ', 'to', ' ', 'my', ' ', 'work', ',', '', ' ', 'and', ' ', 'went', ' ', 'on', ' ', 'groping', ' ', 'and', ' ', 'muddling', ';', '', ' ', 'then', ' ', 'I', ' ', 'looked', ' ', 'at', ' ', 'the', ' ', 'donkey', ' ', 'again', '.', '', ' ', 'I', ' ', 'saw', ' ', 'that', ',', '', ' ', 'when', ' ', 'Stroud', ' ', 'laid', ' ', 'in', ' ', 'the', ' ', 'first', ' ', 'stroke', ',', '', ' ', 'he', ' ', 'knew', ' ', 'just', ' ', 'what', ' ', 'the', ' ', 'end', ' ', 'would', ' ', 'be', '.', '', ' ', 'He', ' ', 'had', ' ', 'possessed', ' ', 'his', ' ', 'subject', ',', '', ' ', 'absorbed', ' ', 'it', ',', '', ' ', 'recreated', ' ', 'it', '.', '', ' ', 'When', ' ', 'had', ' ', 'I', ' ', 'done', ' ', 'that', ' ', 'with', ' ', 'any', ' ', 'of', ' ', 'my', ' ', 'things', '?', '', ' ', 'They', ' ', 'hadn', \"'\", 't', ' ', 'been', ' ', 'born', ' ', 'of', ' ', 'me', '--', 'I', ' ', 'had', ' ', 'just', ' ', 'adopted', ' ', 'them', '.', '', ' ', '', '.', '', ' ', '', '.', '', ' ', '', '.', '', '\\n', '', '\\n', '', '\"', 'Hang', ' ', 'it', ',', '', ' ', 'Rickham', ',', '', ' ', 'with', ' ', 'that', ' ', 'face', ' ', 'watching', ' ', 'me', ' ', 'I', ' ', 'couldn', \"'\", 't', ' ', 'do', ' ', 'another', ' ', 'stroke', '.', '', ' ', 'The', ' ', 'plain', ' ', 'truth', ' ', 'was', ',', '', ' ', 'I', ' ', 'didn', \"'\", 't', ' ', 'know', ' ', 'where', ' ', 'to', ' ', 'put', ' ', 'it', '--', '', '_', 'I', ' ', 'had', ' ', 'never', ' ', 'known', '_', '', '.', '', ' ', 'Only', ',', '', ' ', 'with', ' ', 'my', ' ', 'sitters', ' ', 'and', ' ', 'my', ' ', 'public', ',', '', ' ', 'a', ' ', 'showy', ' ', 'splash', ' ', 'of', ' ', 'colour', ' ', 'covered', ' ', 'up', ' ', 'the', ' ', 'fact', '--', 'I', ' ', 'just', ' ', 'threw', ' ', 'paint', ' ', 'into', ' ', 'their', ' ', 'faces', '.', '', ' ', '', '.', '', ' ', '', '.', '', ' ', '', '.', '', ' ', 'Well', ',', '', ' ', 'paint', ' ', 'was', ' ', 'the', ' ', 'one', ' ', 'medium', ' ', 'those', ' ', 'dead', ' ', 'eyes', ' ', 'could', ' ', 'see', ' ', 'through', '--', 'see', ' ', 'straight', ' ', 'to', ' ', 'the', ' ', 'tottering', ' ', 'foundations', ' ', 'underneath', '.', '', ' ', 'Don', \"'\", 't', ' ', 'you', ' ', 'know', ' ', 'how', ',', '', ' ', 'in', ' ', 'talking', ' ', 'a', ' ', 'foreign', ' ', 'language', ',', '', ' ', 'even', ' ', 'fluently', ',', '', ' ', 'one', ' ', 'says', ' ', 'half', ' ', 'the', ' ', 'time', ' ', 'not', ' ', 'what', ' ', 'one', ' ', 'wants', ' ', 'to', ' ', 'but', ' ', 'what', ' ', 'one', ' ', 'can', '?', '', ' ', 'Well', '--', 'that', ' ', 'was', ' ', 'the', ' ', 'way', ' ', 'I', ' ', 'painted', ';', '', ' ', 'and', ' ', 'as', ' ', 'he', ' ', 'lay', ' ', 'there', ' ', 'and', ' ', 'watched', ' ', 'me', ',', '', ' ', 'the', ' ', 'thing', ' ', 'they', ' ', 'called', ' ', 'my', ' ', '', \"'\", 'technique', \"'\", '', ' ', 'collapsed', ' ', 'like', ' ', 'a', ' ', 'house', ' ', 'of', ' ', 'cards', '.', '', ' ', 'He', ' ', 'didn', \"'\", 't', ' ', 'sneer', ',', '', ' ', 'you', ' ', 'understand', ',', '', ' ', 'poor', ' ', 'Stroud', '--', 'he', ' ', 'just', ' ', 'lay', ' ', 'there', ' ', 'quietly', ' ', 'watching', ',', '', ' ', 'and', ' ', 'on', ' ', 'his', ' ', 'lips', ',', '', ' ', 'through', ' ', 'the', ' ', 'gray', ' ', 'beard', ',', '', ' ', 'I', ' ', 'seemed', ' ', 'to', ' ', 'hear', ' ', 'the', ' ', 'question', ':', '', ' ', '', \"'\", 'Are', ' ', 'you', ' ', 'sure', ' ', 'you', ' ', 'know', ' ', 'where', ' ', 'you', \"'\", 're', ' ', 'coming', ' ', 'out', '?', '', \"'\", '', '\\n', '', '\\n', '', '\"', 'If', ' ', 'I', ' ', 'could', ' ', 'have', ' ', 'painted', ' ', 'that', ' ', 'face', ',', '', ' ', 'with', ' ', 'that', ' ', 'question', ' ', 'on', ' ', 'it', ',', '', ' ', 'I', ' ', 'should', ' ', 'have', ' ', 'done', ' ', 'a', ' ', 'great', ' ', 'thing', '.', '', ' ', 'The', ' ', 'next', ' ', 'greatest', ' ', 'thing', ' ', 'was', ' ', 'to', ' ', 'see', ' ', 'that', ' ', 'I', ' ', 'couldn', \"'\", 't', '--', 'and', ' ', 'that', ' ', 'grace', ' ', 'was', ' ', 'given', ' ', 'me', '.', '', ' ', 'But', ',', '', ' ', 'oh', ',', '', ' ', 'at', ' ', 'that', ' ', 'minute', ',', '', ' ', 'Rickham', ',', '', ' ', 'was', ' ', 'there', ' ', 'anything', ' ', 'on', ' ', 'earth', ' ', 'I', ' ', 'wouldn', \"'\", 't', ' ', 'have', ' ', 'given', ' ', 'to', ' ', 'have', ' ', 'Stroud', ' ', 'alive', ' ', 'before', ' ', 'me', ',', '', ' ', 'and', ' ', 'to', ' ', 'hear', ' ', 'him', ' ', 'say', ':', '', ' ', '', \"'\", 'It', \"'\", 's', ' ', 'not', ' ', 'too', ' ', 'late', '--', 'I', \"'\", 'll', ' ', 'show', ' ', 'you', ' ', 'how', \"'\", '', '?', '', '\\n', '', '\\n', '', '\"', 'It', ' ', '', '_', 'was', '_', '', ' ', 'too', ' ', 'late', '--', 'it', ' ', 'would', ' ', 'have', ' ', 'been', ',', '', ' ', 'even', ' ', 'if', ' ', 'he', \"'\", 'd', ' ', 'been', ' ', 'alive', '.', '', ' ', 'I', ' ', 'packed', ' ', 'up', ' ', 'my', ' ', 'traps', ',', '', ' ', 'and', ' ', 'went', ' ', 'down', ' ', 'and', ' ', 'told', ' ', 'Mrs', '.', '', ' ', 'Stroud', '.', '', ' ', 'Of', ' ', 'course', ' ', 'I', ' ', 'didn', \"'\", 't', ' ', 'tell', ' ', 'her', ' ', '', '_', 'that', '_', '', '--', 'it', ' ', 'would', ' ', 'have', ' ', 'been', ' ', 'Greek', ' ', 'to', ' ', 'her', '.', '', ' ', 'I', ' ', 'simply', ' ', 'said', ' ', 'I', ' ', 'couldn', \"'\", 't', ' ', 'paint', ' ', 'him', ',', '', ' ', 'that', ' ', 'I', ' ', 'was', ' ', 'too', ' ', 'moved', '.', '', ' ', 'She', ' ', 'rather', ' ', 'liked', ' ', 'the', ' ', 'idea', '--', 'she', \"'\", 's', ' ', 'so', ' ', 'romantic', '!', '', ' ', 'It', ' ', 'was', ' ', 'that', ' ', 'that', ' ', 'made', ' ', 'her', ' ', 'give', ' ', 'me', ' ', 'the', ' ', 'donkey', '.', '', ' ', 'But', ' ', 'she', ' ', 'was', ' ', 'terribly', ' ', 'upset', ' ', 'at', ' ', 'not', ' ', 'getting', ' ', 'the', ' ', 'portrait', '--', 'she', ' ', 'did', ' ', 'so', ' ', 'want', ' ', 'him', ' ', '', \"'\", 'done', \"'\", '', ' ', 'by', ' ', 'some', ' ', 'one', ' ', 'showy', '!', '', ' ', 'At', ' ', 'first', ' ', 'I', ' ', 'was', ' ', 'afraid', ' ', 'she', ' ', 'wouldn', \"'\", 't', ' ', 'let', ' ', 'me', ' ', 'off', '--', 'and', ' ', 'at', ' ', 'my', ' ', 'wits', \"'\", '', ' ', 'end', ' ', 'I', ' ', 'suggested', ' ', 'Grindle', '.', '', ' ', 'Yes', ',', '', ' ', 'it', ' ', 'was', ' ', 'I', ' ', 'who', ' ', 'started', ' ', 'Grindle', ':', '', ' ', 'I', ' ', 'told', ' ', 'Mrs', '.', '', ' ', 'Stroud', ' ', 'he', ' ', 'was', ' ', 'the', ' ', '', \"'\", 'coming', \"'\", '', ' ', 'man', ',', '', ' ', 'and', ' ', 'she', ' ', 'told', ' ', 'somebody', ' ', 'else', ',', '', ' ', 'and', ' ', 'so', ' ', 'it', ' ', 'got', ' ', 'to', ' ', 'be', ' ', 'true', '.', '', ' ', '', '.', '', ' ', '', '.', '', ' ', '', '.', '', ' ', 'And', ' ', 'he', ' ', 'painted', ' ', 'Stroud', ' ', 'without', ' ', 'wincing', ';', '', ' ', 'and', ' ', 'she', ' ', 'hung', ' ', 'the', ' ', 'picture', ' ', 'among', ' ', 'her', ' ', 'husband', \"'\", 's', ' ', 'things', '.', '', ' ', '', '.', '', ' ', '', '.', '', ' ', '', '.', '', '\"', '', '\\n', '', '\\n', 'He', ' ', 'flung', ' ', 'himself', ' ', 'down', ' ', 'in', ' ', 'the', ' ', 'arm-chair', ' ', 'near', ' ', 'mine', ',', '', ' ', 'laid', ' ', 'back', ' ', 'his', ' ', 'head', ',', '', ' ', 'and', ' ', 'clasping', ' ', 'his', ' ', 'arms', ' ', 'beneath', ' ', 'it', ',', '', ' ', 'looked', ' ', 'up', ' ', 'at', ' ', 'the', ' ', 'picture', ' ', 'above', ' ', 'the', ' ', 'chimney-piece', '.', '', '\\n', '', '\\n', '', '\"', 'I', ' ', 'like', ' ', 'to', ' ', 'fancy', ' ', 'that', ' ', 'Stroud', ' ', 'himself', ' ', 'would', ' ', 'have', ' ', 'given', ' ', 'it', ' ', 'to', ' ', 'me', ',', '', ' ', 'if', ' ', 'he', \"'\", 'd', ' ', 'been', ' ', 'able', ' ', 'to', ' ', 'say', ' ', 'what', ' ', 'he', ' ', 'thought', ' ', 'that', ' ', 'day', '.', '', '\"', '', '\\n', '', '\\n', 'And', ',', '', ' ', 'in', ' ', 'answer', ' ', 'to', ' ', 'a', ' ', 'question', ' ', 'I', ' ', 'put', ' ', 'half-mechanically', '--', '', '\"', 'Begin', ' ', 'again', '?', '', '\"', '', ' ', 'he', ' ', 'flashed', ' ', 'out', '.', '', ' ', '', '\"', 'When', ' ', 'the', ' ', 'one', ' ', 'thing', ' ', 'that', ' ', 'brings', ' ', 'me', ' ', 'anywhere', ' ', 'near', ' ', 'him', ' ', 'is', ' ', 'that', ' ', 'I', ' ', 'knew', ' ', 'enough', ' ', 'to', ' ', 'leave', ' ', 'off', '?', '', '\"', '', '\\n', '', '\\n', 'He', ' ', 'stood', ' ', 'up', ' ', 'and', ' ', 'laid', ' ', 'his', ' ', 'hand', ' ', 'on', ' ', 'my', ' ', 'shoulder', ' ', 'with', ' ', 'a', ' ', 'laugh', '.', '', ' ', '', '\"', 'Only', ' ', 'the', ' ', 'irony', ' ', 'of', ' ', 'it', ' ', 'is', ' ', 'that', ' ', 'I', ' ', '', '_', 'am', '_', '', ' ', 'still', ' ', 'painting', '--', 'since', ' ', 'Grindle', \"'\", 's', ' ', 'doing', ' ', 'it', ' ', 'for', ' ', 'me', '!', '', ' ', 'The', ' ', 'Strouds', ' ', 'stand', ' ', 'alone', ',', '', ' ', 'and', ' ', 'happen', ' ', 'once', '--', 'but', ' ', 'there', \"'\", 's', ' ', 'no', ' ', 'exterminating', ' ', 'our', ' ', 'kind', ' ', 'of', ' ', 'art', '.', '', '\"', '', '\\n', '', '\\n', '', '\\n', '', '\\n', '', '\\n', '', '\\n', 'This', ' ', 'work', ' ', 'is', ' ', 'in', ' ', 'the', ' ', 'public', ' ', 'domain', ' ', 'in', ' ', 'the', ' ', 'United', ' ', 'States', ' ', 'because', ' ', 'it', ' ', 'was', ' ', 'published', ' ', 'before', ' ', 'January', ' ', '1', ',', '', ' ', '1929', '.', '', '\\n', '', '\\n', '', '\\n', '', '\\n', '*', ' ', '*', ' ', '*', '\\n', '', '\\n', '', '\\n', '', '\\n', 'This', ' ', 'work', ' ', 'may', ' ', 'be', ' ', 'in', ' ', 'the', ' ', 'public', ' ', 'domain', ' ', 'in', ' ', 'countries', ' ', 'and', ' ', 'areas', ' ', 'with', ' ', 'longer', ' ', 'native', ' ', 'copyright', ' ', 'terms', ' ', 'that', ' ', 'apply', ' ', 'the', ' ', 'rule', ' ', 'of', ' ', 'the', ' ', 'shorter', ' ', 'term', ' ', 'to', ' ', 'foreign', ' ', 'works', '.', '', '\\n', '', '\\n', '', '\\n', '', '\\n', '', '\\n', '', '\\n', 'About', ' ', 'this', ' ', 'digital', ' ', 'edition', '\\n', '', '\\n', '', '\\n', 'This', ' ', 'e-book', ' ', 'comes', ' ', 'from', ' ', 'the', ' ', 'online', ' ', 'library', ' ', 'Wikisource', '.', '', ' ', 'This', ' ', 'multilingual', ' ', 'digital', ' ', 'library', ',', '', ' ', 'built', ' ', 'by', ' ', 'volunteers', ',', '', ' ', 'is', ' ', 'committed', ' ', 'to', ' ', 'developing', ' ', 'a', ' ', 'free', ' ', 'accessible', ' ', 'collection', ' ', 'of', ' ', 'publications', ' ', 'of', ' ', 'every', ' ', 'kind', ':', '', ' ', 'novels', ',', '', ' ', 'poems', ',', '', ' ', 'magazines', ',', '', ' ', 'letters', '.', '', '.', '', '.', '', '\\n', '', '\\n', 'We', ' ', 'distribute', ' ', 'our', ' ', 'books', ' ', 'for', ' ', 'free', ',', '', ' ', 'starting', ' ', 'from', ' ', 'works', ' ', 'not', ' ', 'copyrighted', ' ', 'or', ' ', 'published', ' ', 'under', ' ', 'a', ' ', 'free', ' ', 'license', '.', '', ' ', 'You', ' ', 'are', ' ', 'free', ' ', 'to', ' ', 'use', ' ', 'our', ' ', 'e-books', ' ', 'for', ' ', 'any', ' ', 'purpose', ' ', '', '(', 'including', ' ', 'commercial', ' ', 'exploitation', ')', '', ',', '', ' ', 'under', ' ', 'the', ' ', 'terms', ' ', 'of', ' ', 'the', ' ', 'Creative', ' ', 'Commons', ' ', 'Attribution-ShareAlike', ' ', '4', '.', '0', ' ', 'Unported', ' ', 'license', ' ', 'or', ',', '', ' ', 'at', ' ', 'your', ' ', 'choice', ',', '', ' ', 'those', ' ', 'of', ' ', 'the', ' ', 'GNU', ' ', 'FDL', '.', '', '\\n', '', '\\n', 'Wikisource', ' ', 'is', ' ', 'constantly', ' ', 'looking', ' ', 'for', ' ', 'new', ' ', 'members', '.', '', ' ', 'During', ' ', 'the', ' ', 'transcription', ' ', 'and', ' ', 'proofreading', ' ', 'of', ' ', 'this', ' ', 'book', ',', '', ' ', 'it', \"'\", 's', ' ', 'possible', ' ', 'that', ' ', 'we', ' ', 'made', ' ', 'some', ' ', 'errors', '.', '', ' ', 'You', ' ', 'can', ' ', 'report', ' ', 'them', ' ', 'at', ' ', 'this', ' ', 'page', '.', '', '\\n', '', '\\n', 'The', ' ', 'following', ' ', 'users', ' ', 'contributed', ' ', 'to', ' ', 'this', ' ', 'book', ':', '', '\\n', '', '\\n', 'Zigzig20s~enwikisource', '\\n', '', '\\n', 'Zhaladshar', '\\n', '', '\\n', 'Pathosbot', '\\n', '', '\\n', 'AdamBMorgan', '\\n', '', '\\n', 'Jarekt', '\\n', '', '\\n', 'Rocket000', '\\n', '', '\\n', 'Dbenbenn', '\\n', '', '\\n', 'Zscout370', '\\n', '', '\\n', 'Jacobolus', '\\n', '', '\\n', 'Indolences', '\\n', '', '\\n', 'Technion', '\\n', '', '\\n', 'Dha', '\\n', '', '\\n', 'Abigor', '\\n', '', '\\n', 'Reisio', '\\n', '', '\\n', 'Blurpeace', '\\n', '', '\\n', 'Dschwen', '\\n', '', '\\n', 'Steinsplitter', '\\n', '', '\\n', 'Boris23', '\\n', '', '\\n', 'KABALINI', '\\n', '', '\\n', 'Bromskloss', '\\n', '', '\\n', 'Tene~commonswiki', '\\n', '', '\\n', 'AzaToth', '\\n', '', '\\n', 'Bender235', '\\n', '', '\\n', 'PatrÃ\\xadciaR', '\\n', '', '\\n', '', '\\n', '', '\\n', '', '\\n', '', '\\n', '']\n",
      "9855\n"
     ]
    }
   ],
   "source": [
    "#entire content of 'wikiText' into tokens using a regular expression that matches punctuation, double hyphens, and spaces\n",
    "preProcessed = re.split(r'([,.:;?_!\"()\\']|--|\\s)', wikiText) \n",
    "print(preProcessed)\n",
    "print(len(preProcessed))"
   ]
  },
  {
   "cell_type": "markdown",
   "id": "c6c5b45f-51b1-4f47-927b-a767ace3a9b2",
   "metadata": {},
   "source": [
    "### Token IDs"
   ]
  },
  {
   "cell_type": "code",
   "execution_count": 83,
   "id": "4f845ba7-bea6-483e-b7e9-42cdb0095ab5",
   "metadata": {},
   "outputs": [
    {
     "name": "stdout",
     "output_type": "stream",
     "text": [
      "1239\n"
     ]
    }
   ],
   "source": [
    "#removes duplicate tokens from the 'preProcessed' list by converting it into a set, then sorts the unique tokens alphabetically.\n",
    "allWords = sorted(set(preProcessed))\n",
    "print(len(allWords))\n"
   ]
  },
  {
   "cell_type": "code",
   "execution_count": 84,
   "id": "429c793c-c45c-45c4-8a48-932e18847041",
   "metadata": {},
   "outputs": [
    {
     "name": "stdout",
     "output_type": "stream",
     "text": [
      "{'': 0, '\\t': 1, '\\n': 2, ' ': 3, '!': 4, '\"': 5, \"'\": 6, '(': 7, ')': 8, '*': 9, ',': 10, '--': 11, '.': 12, '0': 13, '1': 14, '1908': 15, '1929': 16, '2024': 17, '27': 18, '4': 19, ':': 20, ';': 21, '?': 22, 'A': 23, 'Abigor': 24, 'About': 25, 'AdamBMorgan': 26, 'Ah': 27, 'Among': 28, 'And': 29, 'Are': 30, 'Arrt': 31, 'As': 32, 'At': 33, 'Attribution-ShareAlike': 34, 'August': 35, 'AzaToth': 36, 'Be': 37, 'Begin': 38, 'Bender235': 39, 'Blurpeace': 40, 'Boris23': 41, 'Bromskloss': 42, 'Burlington': 43, 'But': 44, 'By': 45, 'Carlo': 46, 'Chicago': 47, 'Claude': 48, 'Come': 49, 'Commons': 50, 'Creative': 51, 'Croft': 52, 'Dbenbenn': 53, 'Destroyed': 54, 'Devonshire': 55, 'Dha': 56, 'Don': 57, 'Dschwen': 58, 'Dubarry': 59, 'During': 60, 'Edith': 61, 'Emperors': 62, 'Exported': 63, 'FDL': 64, 'Florence': 65, 'For': 66, 'GNU': 67, 'Gallery': 68, 'Gideon': 69, 'Gisburn': 70, 'Gisburns': 71, 'Grafton': 72, 'Greek': 73, 'Grindle': 74, 'Grindles': 75, 'HAD': 76, 'Had': 77, 'Hang': 78, 'Has': 79, 'He': 80, 'Her': 81, 'Hermia': 82, 'His': 83, 'How': 84, 'I': 85, 'If': 86, 'In': 87, 'Indolences': 88, 'It': 89, 'Jack': 90, 'Jacobolus': 91, 'January': 92, 'Jarekt': 93, 'Jove': 94, 'Just': 95, 'KABALINI': 96, 'Lord': 97, 'Made': 98, 'Miss': 99, 'Money': 100, 'Monte': 101, 'Moon-dancers': 102, 'Mr': 103, 'Mrs': 104, 'My': 105, 'Never': 106, 'No': 107, 'Now': 108, 'Nutley': 109, 'Of': 110, 'Oh': 111, 'On': 112, 'Once': 113, 'Only': 114, 'Or': 115, 'Pathosbot': 116, 'PatrÃ\\xadciaR': 117, 'Perhaps': 118, 'Poor': 119, 'Professional': 120, 'Reisio': 121, 'Renaissance': 122, 'Rickham': 123, 'Riviera': 124, 'Rocket000': 125, 'Rome': 126, 'Russian': 127, 'Sevres': 128, 'She': 129, 'States': 130, 'Steinsplitter': 131, 'Stroud': 132, 'Strouds': 133, 'Suddenly': 134, 'Technion': 135, 'Tene~commonswiki': 136, 'That': 137, 'The': 138, 'Then': 139, 'There': 140, 'They': 141, 'This': 142, 'Those': 143, 'Though': 144, 'Thwing': 145, 'Thwings': 146, 'To': 147, 'United': 148, 'Unported': 149, 'Usually': 150, 'Venetian': 151, 'Verdict': 152, 'Victor': 153, 'Was': 154, 'We': 155, 'Well': 156, 'Wharton': 157, 'What': 158, 'When': 159, 'Why': 160, 'Wikisource': 161, 'Yes': 162, 'You': 163, 'Zhaladshar': 164, 'Zigzig20s~enwikisource': 165, 'Zscout370': 166, '_': 167, 'a': 168, 'abdication': 169, 'able': 170, 'about': 171, 'above': 172, 'abruptly': 173, 'absolute': 174, 'absorbed': 175, 'absurdity': 176, 'academic': 177, 'accessible': 178, 'accuse': 179, 'accustomed': 180, 'across': 181, 'activity': 182, 'add': 183, 'added': 184, 'admirers': 185, 'adopted': 186, 'adulation': 187, 'advance': 188, 'aesthetic': 189, 'affect': 190, 'afraid': 191, 'after': 192, 'afterward': 193, 'again': 194, 'ago': 195, 'ah': 196, 'air': 197, 'alive': 198, 'all': 199, 'almost': 200, 'alone': 201, 'along': 202, 'always': 203, 'am': 204, 'amazement': 205, 'amid': 206, 'among': 207, 'amplest': 208, 'amusing': 209, 'an': 210, 'and': 211, 'another': 212, 'answer': 213, 'answered': 214, 'any': 215, 'anything': 216, 'anywhere': 217, 'apparent': 218, 'apparently': 219, 'appearance': 220, 'appeared': 221, 'apply': 222, 'appointed': 223, 'are': 224, 'areas': 225, 'arm': 226, 'arm-chair': 227, 'arm-chairs': 228, 'arms': 229, 'art': 230, 'articles': 231, 'artist': 232, 'as': 233, 'aside': 234, 'asked': 235, 'at': 236, 'atmosphere': 237, 'atom': 238, 'attack': 239, 'attention': 240, 'attitude': 241, 'audacities': 242, 'away': 243, 'awful': 244, 'axioms': 245, 'azaleas': 246, 'back': 247, 'background': 248, 'balance': 249, 'balancing': 250, 'balustraded': 251, 'basking': 252, 'bath-rooms': 253, 'be': 254, 'beaming': 255, 'bean-stalk': 256, 'bear': 257, 'beard': 258, 'beauty': 259, 'became': 260, 'because': 261, 'becoming': 262, 'bed': 263, 'been': 264, 'before': 265, 'began': 266, 'begun': 267, 'behind': 268, 'being': 269, 'believed': 270, 'beneath': 271, 'bespoke': 272, 'better': 273, 'between': 274, 'big': 275, 'bits': 276, 'bitterness': 277, 'blocked': 278, 'book': 279, 'books': 280, 'born': 281, 'borne': 282, 'boudoir': 283, 'bravura': 284, 'break': 285, 'breaking': 286, 'breathing': 287, 'bric-a-brac': 288, 'briefly': 289, 'brings': 290, 'bronzes': 291, 'brought': 292, 'brown': 293, 'brush': 294, 'built': 295, 'bull': 296, 'business': 297, 'but': 298, 'buying': 299, 'by': 300, 'called': 301, 'came': 302, 'can': 303, 'canvas': 304, 'canvases': 305, 'cards': 306, 'care': 307, 'career': 308, 'caught': 309, 'central': 310, 'chair': 311, 'chap': 312, 'characteristic': 313, 'charming': 314, 'cheap': 315, 'check': 316, 'cheeks': 317, 'chest': 318, 'chimney-piece': 319, 'choice': 320, 'chucked': 321, 'cigar': 322, 'cigarette': 323, 'cigars': 324, 'circulation': 325, 'circumstance': 326, 'circus-clown': 327, 'claimed': 328, 'clasping': 329, 'clear': 330, 'cleverer': 331, 'close': 332, 'clue': 333, 'coat': 334, 'collapsed': 335, 'collection': 336, 'colour': 337, 'come': 338, 'comes': 339, 'comfortable': 340, 'coming': 341, 'commercial': 342, 'committed': 343, 'companion': 344, 'compared': 345, 'complex': 346, 'confident': 347, 'congesting': 348, 'conjugal': 349, 'constantly': 350, 'constraint': 351, 'consummate': 352, 'contended': 353, 'continued': 354, 'contributed': 355, 'copyright': 356, 'copyrighted': 357, 'corner': 358, 'corrected': 359, 'could': 360, 'couldn': 361, 'count': 362, 'countenance': 363, 'countries': 364, 'couple': 365, 'course': 366, 'covered': 367, 'craft': 368, 'cried': 369, 'crossed': 370, 'crowned': 371, 'crumbled': 372, 'cry': 373, 'cured': 374, 'curiosity': 375, 'curious': 376, 'current': 377, 'curtains': 378, 'd': 379, 'dabble': 380, 'damask': 381, 'dark': 382, 'dashed': 383, 'day': 384, 'days': 385, 'dead': 386, 'deadening': 387, 'dear': 388, 'deep': 389, 'deerhound': 390, 'degree': 391, 'delicate': 392, 'demand': 393, 'denied': 394, 'deploring': 395, 'deprecating': 396, 'deprecatingly': 397, 'desire': 398, 'destroyed': 399, 'destruction': 400, 'desultory': 401, 'detail': 402, 'developing': 403, 'diagnosis': 404, 'did': 405, 'didn': 406, 'died': 407, 'digital': 408, 'dim': 409, 'dimmest': 410, 'dingy': 411, 'dining-room': 412, 'disarming': 413, 'discovery': 414, 'discrimination': 415, 'discussion': 416, 'disdain': 417, 'disdained': 418, 'disease': 419, 'disguised': 420, 'display': 421, 'dissatisfied': 422, 'distinguished': 423, 'distract': 424, 'distribute': 425, 'divert': 426, 'do': 427, 'doesn': 428, 'doing': 429, 'domain': 430, 'domestic': 431, 'don': 432, 'done': 433, 'donkey': 434, 'down': 435, 'dozen': 436, 'dragged': 437, 'drawing-room': 438, 'drawing-rooms': 439, 'drawn': 440, 'dress-closets': 441, 'drew': 442, 'dropped': 443, 'e-book': 444, 'e-books': 445, 'each': 446, 'earth': 447, 'ease': 448, 'easel': 449, 'easy': 450, 'echoed': 451, 'economy': 452, 'edition': 453, 'effect': 454, 'effects': 455, 'efforts': 456, 'egregious': 457, 'eighteenth-century': 458, 'elbow': 459, 'elegant': 460, 'else': 461, 'embarrassed': 462, 'enabled': 463, 'end': 464, 'endless': 465, 'enjoy': 466, 'enlightenment': 467, 'enough': 468, 'ensuing': 469, 'equally': 470, 'equanimity': 471, 'errors': 472, 'escape': 473, 'established': 474, 'etching': 475, 'even': 476, 'event': 477, 'ever': 478, 'everlasting': 479, 'every': 480, 'exasperated': 481, 'except': 482, 'excuse': 483, 'excusing': 484, 'existed': 485, 'expected': 486, 'exploitation': 487, 'exquisite': 488, 'exquisitely': 489, 'extenuation': 490, 'exterminating': 491, 'extracting': 492, 'eye': 493, 'eyebrows': 494, 'eyes': 495, 'face': 496, 'faces': 497, 'fact': 498, 'faded': 499, 'failed': 500, 'failure': 501, 'fair': 502, 'faith': 503, 'false': 504, 'familiar': 505, 'famille-verte': 506, 'fancy': 507, 'fashionable': 508, 'fate': 509, 'feather': 510, 'feet': 511, 'fell': 512, 'fellow': 513, 'felt': 514, 'few': 515, 'fewer': 516, 'finality': 517, 'find': 518, 'fingers': 519, 'first': 520, 'fit': 521, 'fitting': 522, 'five': 523, 'flash': 524, 'flashed': 525, 'florid': 526, 'flowers': 527, 'fluently': 528, 'flung': 529, 'follow': 530, 'followed': 531, 'following': 532, 'fond': 533, 'footstep': 534, 'for': 535, 'forced': 536, 'forcing': 537, 'forehead': 538, 'foreign': 539, 'foreseen': 540, 'forgive': 541, 'forgotten': 542, 'form': 543, 'formed': 544, 'forming': 545, 'forward': 546, 'fostered': 547, 'found': 548, 'foundations': 549, 'fragment': 550, 'fragments': 551, 'frame': 552, 'frames': 553, 'free': 554, 'frequently': 555, 'friend': 556, 'from': 557, 'full': 558, 'fullest': 559, 'furiously': 560, 'furrowed': 561, 'garlanded': 562, 'garlands': 563, 'gave': 564, 'genial': 565, 'genius': 566, 'gesture': 567, 'get': 568, 'getting': 569, 'give': 570, 'given': 571, 'glad': 572, 'glanced': 573, 'glimpse': 574, 'gloried': 575, 'glory': 576, 'go': 577, 'going': 578, 'gone': 579, 'good': 580, 'good-breeding': 581, 'good-humoured': 582, 'got': 583, 'grace': 584, 'gradually': 585, 'gray': 586, 'grayish': 587, 'great': 588, 'greatest': 589, 'greatness': 590, 'grew': 591, 'groping': 592, 'growing': 593, 'had': 594, 'hadn': 595, 'hair': 596, 'half': 597, 'half-light': 598, 'half-mechanically': 599, 'hall': 600, 'hand': 601, 'hands': 602, 'handsome': 603, 'hanging': 604, 'happen': 605, 'happened': 606, 'hard': 607, 'hardly': 608, 'has': 609, 'have': 610, 'haven': 611, 'having': 612, 'he': 613, 'head': 614, 'hear': 615, 'heard': 616, 'heart': 617, 'height': 618, 'her': 619, 'here': 620, 'hermit': 621, 'herself': 622, 'hesitations': 623, 'hide': 624, 'high': 625, 'him': 626, 'himself': 627, 'hint': 628, 'his': 629, 'history': 630, 'holding': 631, 'home': 632, 'honour': 633, 'hooded': 634, 'hostess': 635, 'hot-house': 636, 'hour': 637, 'hours': 638, 'house': 639, 'how': 640, 'hung': 641, 'husband': 642, 'idea': 643, 'idle': 644, 'idling': 645, 'if': 646, 'immediately': 647, 'in': 648, 'incense': 649, 'including': 650, 'indifferent': 651, 'inevitable': 652, 'inevitably': 653, 'inflexible': 654, 'insensible': 655, 'insignificant': 656, 'instinctively': 657, 'instructive': 658, 'interesting': 659, 'into': 660, 'ironic': 661, 'irony': 662, 'irrelevance': 663, 'irrevocable': 664, 'is': 665, 'it': 666, 'its': 667, 'itself': 668, 'jardiniere': 669, 'jealousy': 670, 'just': 671, 'keep': 672, 'kept': 673, 'kind': 674, 'knees': 675, 'knew': 676, 'know': 677, 'known': 678, 'laid': 679, 'lair': 680, 'landing': 681, 'language': 682, 'last': 683, 'late': 684, 'later': 685, 'latter': 686, 'laugh': 687, 'laughed': 688, 'lay': 689, 'leading': 690, 'lean': 691, 'learned': 692, 'least': 693, 'leathery': 694, 'leave': 695, 'led': 696, 'left': 697, 'leisure': 698, 'lends': 699, 'lent': 700, 'let': 701, 'letters': 702, 'library': 703, 'license': 704, 'lies': 705, 'life': 706, 'life-likeness': 707, 'lift': 708, 'lifted': 709, 'light': 710, 'lightly': 711, 'like': 712, 'liked': 713, 'line': 714, 'lines': 715, 'lingered': 716, 'lips': 717, 'lit': 718, 'little': 719, 'live': 720, 'll': 721, 'loathing': 722, 'long': 723, 'longed': 724, 'longer': 725, 'look': 726, 'looked': 727, 'looking': 728, 'lose': 729, 'loss': 730, 'lounging': 731, 'lovely': 732, 'lucky': 733, 'lump': 734, 'luncheon-table': 735, 'luxury': 736, 'lying': 737, 'made': 738, 'magazines': 739, 'make': 740, 'man': 741, 'manage': 742, 'managed': 743, 'mantel-piece': 744, 'marble': 745, 'married': 746, 'may': 747, 'me': 748, 'meant': 749, 'mediocrity': 750, 'medium': 751, 'members': 752, 'mentioned': 753, 'mere': 754, 'merely': 755, 'met': 756, 'might': 757, 'mighty': 758, 'millionaire': 759, 'mine': 760, 'minute': 761, 'minutes': 762, 'mirrors': 763, 'modest': 764, 'modesty': 765, 'moment': 766, 'money': 767, 'monumental': 768, 'mood': 769, 'morbidly': 770, 'more': 771, 'most': 772, 'mourn': 773, 'mourned': 774, 'moustache': 775, 'moved': 776, 'much': 777, 'muddling': 778, 'multilingual': 779, 'multiplied': 780, 'murmur': 781, 'muscles': 782, 'must': 783, 'my': 784, 'myself': 785, 'mysterious': 786, 'naive': 787, 'native': 788, 'near': 789, 'nearly': 790, 'negatived': 791, 'nervous': 792, 'nervousness': 793, 'neutral': 794, 'never': 795, 'new': 796, 'next': 797, 'no': 798, 'none': 799, 'not': 800, 'note': 801, 'nothing': 802, 'novels': 803, 'now': 804, 'nymphs': 805, 'oak': 806, 'obituary': 807, 'object': 808, 'objects': 809, 'occurred': 810, 'oddly': 811, 'of': 812, 'off': 813, 'often': 814, 'oh': 815, 'old': 816, 'on': 817, 'once': 818, 'one': 819, 'ones': 820, 'online': 821, 'only': 822, 'onto': 823, 'open': 824, 'or': 825, 'other': 826, 'our': 827, 'ourselves': 828, 'out': 829, 'outline': 830, 'oval': 831, 'over': 832, 'own': 833, 'packed': 834, 'page': 835, 'paid': 836, 'paint': 837, 'painted': 838, 'painter': 839, 'painting': 840, 'pale': 841, 'paled': 842, 'palm-trees': 843, 'panel': 844, 'panelling': 845, 'pardonable': 846, 'pardoned': 847, 'part': 848, 'passages': 849, 'passing': 850, 'past': 851, 'pastels': 852, 'pathos': 853, 'patient': 854, 'people': 855, 'perceptible': 856, 'perfect': 857, 'persistence': 858, 'persuasively': 859, 'phrase': 860, 'picture': 861, 'pictures': 862, 'pines': 863, 'pink': 864, 'place': 865, 'placed': 866, 'plain': 867, 'platitudes': 868, 'pleased': 869, 'pockets': 870, 'poems': 871, 'point': 872, 'poised': 873, 'poor': 874, 'portrait': 875, 'posing': 876, 'possessed': 877, 'possible': 878, 'poverty': 879, 'predicted': 880, 'preliminary': 881, 'presenting': 882, 'prestidigitation': 883, 'pretty': 884, 'previous': 885, 'price': 886, 'pride': 887, 'princely': 888, 'prism': 889, 'problem': 890, 'proclaiming': 891, 'prodigious': 892, 'profusion': 893, 'proofreading': 894, 'protest': 895, 'prove': 896, 'public': 897, 'publications': 898, 'published': 899, 'purblind': 900, 'purely': 901, 'purpose': 902, 'pushed': 903, 'put': 904, 'qualities': 905, 'quality': 906, 'queerly': 907, 'question': 908, 'quickly': 909, 'quietly': 910, 'quite': 911, 'quote': 912, 'rain': 913, 'raised': 914, 'random': 915, 'rather': 916, 're': 917, 'real': 918, 'really': 919, 'reared': 920, 'reason': 921, 'reassurance': 922, 'recovering': 923, 'recreated': 924, 'reflected': 925, 'reflection': 926, 'regrets': 927, 'relatively': 928, 'remained': 929, 'remember': 930, 'reminded': 931, 'repeating': 932, 'report': 933, 'represented': 934, 'reproduction': 935, 'resented': 936, 'resolve': 937, 'resources': 938, 'rest': 939, 'rich': 940, 'ridiculous': 941, 'robbed': 942, 'romantic': 943, 'room': 944, 'rose': 945, 'rs': 946, 'rule': 947, 'run': 948, 's': 949, 'said': 950, 'same': 951, 'satisfaction': 952, 'savour': 953, 'saw': 954, 'say': 955, 'saying': 956, 'says': 957, 'scorn': 958, 'scornful': 959, 'secret': 960, 'see': 961, 'seemed': 962, 'seen': 963, 'self-confident': 964, 'send': 965, 'sensation': 966, 'sensitive': 967, 'sent': 968, 'serious': 969, 'set': 970, 'sex': 971, 'shade': 972, 'shaking': 973, 'shall': 974, 'she': 975, 'shirked': 976, 'short': 977, 'shorter': 978, 'should': 979, 'shoulder': 980, 'shoulders': 981, 'show': 982, 'showed': 983, 'showy': 984, 'shrug': 985, 'shrugged': 986, 'sight': 987, 'sign': 988, 'silent': 989, 'silver': 990, 'similar': 991, 'simpleton': 992, 'simplifications': 993, 'simply': 994, 'since': 995, 'single': 996, 'sitter': 997, 'sitters': 998, 'sketch': 999, 'skill': 1000, 'slight': 1001, 'slightly': 1002, 'slowly': 1003, 'small': 1004, 'smile': 1005, 'smiling': 1006, 'sneer': 1007, 'so': 1008, 'solace': 1009, 'some': 1010, 'somebody': 1011, 'something': 1012, 'spacious': 1013, 'spaniel': 1014, 'speaking-tubes': 1015, 'speculations': 1016, 'spite': 1017, 'splash': 1018, 'square': 1019, 'stairs': 1020, 'stammer': 1021, 'stand': 1022, 'standing': 1023, 'started': 1024, 'starting': 1025, 'stay': 1026, 'still': 1027, 'stocked': 1028, 'stood': 1029, 'stopped': 1030, 'stopping': 1031, 'straddling': 1032, 'straight': 1033, 'strain': 1034, 'straining': 1035, 'strange': 1036, 'straw': 1037, 'stream': 1038, 'stroke': 1039, 'strokes': 1040, 'strolled': 1041, 'strongest': 1042, 'strongly': 1043, 'struck': 1044, 'studio': 1045, 'stuff': 1046, 'subject': 1047, 'substantial': 1048, 'suburban': 1049, 'such': 1050, 'suddenly': 1051, 'suffered': 1052, 'sugar': 1053, 'suggested': 1054, 'sunburn': 1055, 'sunburnt': 1056, 'sunlit': 1057, 'superb': 1058, 'sure': 1059, 'surest': 1060, 'surface': 1061, 'surprise': 1062, 'surprised': 1063, 'surrounded': 1064, 'suspected': 1065, 'sweetly': 1066, 'sweetness': 1067, 'swelling': 1068, 'swept': 1069, 'swum': 1070, 't': 1071, 'table': 1072, 'take': 1073, 'taken': 1074, 'talking': 1075, 'tea': 1076, 'tears': 1077, 'technicalities': 1078, 'technique': 1079, 'tell': 1080, 'tells': 1081, 'tempting': 1082, 'term': 1083, 'terms': 1084, 'terra-cotta': 1085, 'terrace': 1086, 'terraces': 1087, 'terribly': 1088, 'than': 1089, 'that': 1090, 'the': 1091, 'their': 1092, 'them': 1093, 'then': 1094, 'there': 1095, 'therefore': 1096, 'they': 1097, 'thin': 1098, 'thing': 1099, 'things': 1100, 'think': 1101, 'this': 1102, 'thither': 1103, 'those': 1104, 'though': 1105, 'thought': 1106, 'three': 1107, 'threshold': 1108, 'threw': 1109, 'through': 1110, 'throwing': 1111, 'tie': 1112, 'till': 1113, 'time': 1114, 'timorously': 1115, 'tinge': 1116, 'tips': 1117, 'tired': 1118, 'to': 1119, 'told': 1120, 'tone': 1121, 'tones': 1122, 'too': 1123, 'took': 1124, 'tottering': 1125, 'touched': 1126, 'toward': 1127, 'trace': 1128, 'trade': 1129, 'transcription': 1130, 'transmute': 1131, 'traps': 1132, 'travelled': 1133, 'tribute': 1134, 'tributes': 1135, 'tricks': 1136, 'tried': 1137, 'trouser-presses': 1138, 'true': 1139, 'truth': 1140, 'turned': 1141, 'twenty': 1142, 'twenty-four': 1143, 'twice': 1144, 'twirling': 1145, 'unaccountable': 1146, 'uncertain': 1147, 'under': 1148, 'underlay': 1149, 'underneath': 1150, 'understand': 1151, 'unexpected': 1152, 'untouched': 1153, 'unusual': 1154, 'up': 1155, 'up-stream': 1156, 'upon': 1157, 'upset': 1158, 'upstairs': 1159, 'us': 1160, 'use': 1161, 'used': 1162, 'users': 1163, 'usual': 1164, 'value': 1165, 'varnishing': 1166, 'vases': 1167, 've': 1168, 'veins': 1169, 'velveteen': 1170, 'very': 1171, 'villa': 1172, 'vindicated': 1173, 'virtuosity': 1174, 'vista': 1175, 'vocation': 1176, 'voice': 1177, 'volunteers': 1178, 'wall': 1179, 'wander': 1180, 'want': 1181, 'wanted': 1182, 'wants': 1183, 'was': 1184, 'wasn': 1185, 'watched': 1186, 'watching': 1187, 'water-colour': 1188, 'waves': 1189, 'way': 1190, 'we': 1191, 'weekly': 1192, 'weeks': 1193, 'welcome': 1194, 'went': 1195, 'were': 1196, 'what': 1197, 'when': 1198, 'whenever': 1199, 'where': 1200, 'which': 1201, 'while': 1202, 'white': 1203, 'white-panelled': 1204, 'who': 1205, 'whole': 1206, 'whom': 1207, 'why': 1208, 'wide': 1209, 'widow': 1210, 'wife': 1211, 'wild': 1212, 'wincing': 1213, 'window-curtains': 1214, 'wish': 1215, 'with': 1216, 'without': 1217, 'wits': 1218, 'woman': 1219, 'women': 1220, 'won': 1221, 'wonder': 1222, 'wondered': 1223, 'word': 1224, 'work': 1225, 'working': 1226, 'works': 1227, 'worth': 1228, 'would': 1229, 'wouldn': 1230, 'year': 1231, 'years': 1232, 'yellow': 1233, 'yet': 1234, 'you': 1235, 'younger': 1236, 'your': 1237, 'yourself': 1238}\n"
     ]
    }
   ],
   "source": [
    "#creates a dictionary 'out', where each unique token from 'allWords' is paired with a unique ID, based on its position in the list\n",
    "out = {token:tokenID for tokenID, token in enumerate(allWords)}\n",
    "print(out)"
   ]
  },
  {
   "cell_type": "code",
   "execution_count": 85,
   "id": "ee75da5c",
   "metadata": {},
   "outputs": [],
   "source": [
    "class SimpleTokenizerV1:\n",
    "    def __init__(self, out):\n",
    "        self.str_to_int = out\n",
    "        self.int_to_str = {i:s for s,i in out.items()}\n",
    "    \n",
    "    def encode(self, text):\n",
    "        preprocessed = re.split(r'([,.?_!\"()\\']|--|\\s)', text)\n",
    "        preprocessed = [item.strip() for item in preprocessed if item.strip()]\n",
    "        ids = [self.str_to_int[s] for s in preprocessed]\n",
    "        return ids\n",
    "        \n",
    "    def decode(self, ids):\n",
    "        text = \" \".join([self.int_to_str[i] for i in ids]) \n",
    "        \n",
    "        text = re.sub(r'\\s+([,.?!\"()\\'])', r'\\1', text)\n",
    "        return text"
   ]
  },
  {
   "cell_type": "code",
   "execution_count": 86,
   "id": "2cac36c2",
   "metadata": {},
   "outputs": [
    {
     "name": "stdout",
     "output_type": "stream",
     "text": [
      "[384]\n",
      "day\n"
     ]
    }
   ],
   "source": [
    "#Test encoding and decoding with the SimpleTokenizerV1 class\n",
    "tokenizer = SimpleTokenizerV1(out)\n",
    "print(tokenizer.encode(\"day\"))\n",
    "print(tokenizer.decode([384]))"
   ]
  },
  {
   "cell_type": "code",
   "execution_count": 87,
   "id": "2d2e9fab",
   "metadata": {},
   "outputs": [
    {
     "name": "stdout",
     "output_type": "stream",
     "text": [
      "1241\n"
     ]
    }
   ],
   "source": [
    "#Add special tokens to the vocabulary and print the total number of vocabulary items\n",
    "allWords.extend([\"<|endoftext|>\", \"<|unk|>\"])\n",
    "vocab = {token:integer for integer,token in enumerate(allWords)}\n",
    " \n",
    "print(len(vocab.items()))"
   ]
  },
  {
   "cell_type": "markdown",
   "id": "53544d8d",
   "metadata": {},
   "source": [
    "### Byte pair encoding"
   ]
  },
  {
   "cell_type": "code",
   "execution_count": 88,
   "id": "45e75dff",
   "metadata": {},
   "outputs": [
    {
     "name": "stdout",
     "output_type": "stream",
     "text": [
      "tiktoken version: 0.7.0\n"
     ]
    }
   ],
   "source": [
    "#Check the version of tiktoken\n",
    "from importlib.metadata import version\n",
    "import tiktoken\n",
    "print(\"tiktoken version:\", version(\"tiktoken\"))"
   ]
  },
  {
   "cell_type": "code",
   "execution_count": 89,
   "id": "28140c90",
   "metadata": {},
   "outputs": [],
   "source": [
    "tokenizer = tiktoken.get_encoding(\"gpt2\")"
   ]
  },
  {
   "cell_type": "code",
   "execution_count": 90,
   "id": "784928ef",
   "metadata": {},
   "outputs": [
    {
     "name": "stdout",
     "output_type": "stream",
     "text": [
      "[40, 1842, 345, 47678]\n",
      "I love you Chennai\n"
     ]
    }
   ],
   "source": [
    "#test encoding and decoding with the GPT-2 tokenizer.\n",
    "text = \"I love you Chennai\"\n",
    "integers = tokenizer.encode(text, allowed_special={\"<|endoftext|>\"})\n",
    "print(integers)\n",
    "strings = tokenizer.decode(integers)\n",
    "print(strings)"
   ]
  },
  {
   "cell_type": "markdown",
   "id": "aecf4805",
   "metadata": {},
   "source": [
    "### Data sampling with a sliding window"
   ]
  },
  {
   "cell_type": "code",
   "execution_count": 91,
   "id": "87c95c21",
   "metadata": {},
   "outputs": [
    {
     "name": "stdout",
     "output_type": "stream",
     "text": [
      "5560\n"
     ]
    }
   ],
   "source": [
    "#Encode the entire content of \"The_verdict.txt\" using the tiktoken tokenizer and print the length of the encoded text\n",
    "with open(\"The_verdict.txt\", \"r\", encoding=\"utf-8\") as f:\n",
    "    raw_text = f.read()\n",
    " \n",
    "enc_text = tokenizer.encode(raw_text)\n",
    "print(len(enc_text))"
   ]
  },
  {
   "cell_type": "code",
   "execution_count": 92,
   "id": "d96f5c7a",
   "metadata": {},
   "outputs": [
    {
     "name": "stdout",
     "output_type": "stream",
     "text": [
      "x: [7026, 15632, 438, 2016]\n",
      "y:      [15632, 438, 2016, 257]\n"
     ]
    }
   ],
   "source": [
    "#Prepare data for training by creating context-target pairs from the encoded text\n",
    "enc_sample = enc_text[50:]\n",
    "context_size = 4\n",
    "x = enc_sample[:context_size]\n",
    "y = enc_sample[1:context_size+1]\n",
    "print(f\"x: {x}\")\n",
    "print(f\"y:      {y}\")"
   ]
  },
  {
   "cell_type": "code",
   "execution_count": 93,
   "id": "5568ef03",
   "metadata": {},
   "outputs": [
    {
     "name": "stdout",
     "output_type": "stream",
     "text": [
      "[7026] ----> 15632\n",
      "[7026, 15632] ----> 438\n",
      "[7026, 15632, 438] ----> 2016\n",
      "[7026, 15632, 438, 2016] ----> 257\n"
     ]
    }
   ],
   "source": [
    "#Print context and the corresponding desired output for different lengths of context\n",
    "for i in range(1, context_size+1):\n",
    "    context = enc_sample[:i]\n",
    "    desired = enc_sample[i]\n",
    "    print(context, \"---->\", desired)"
   ]
  },
  {
   "cell_type": "code",
   "execution_count": 94,
   "id": "69085be7",
   "metadata": {},
   "outputs": [
    {
     "name": "stdout",
     "output_type": "stream",
     "text": [
      " cheap ---->  genius\n",
      " cheap genius ----> --\n",
      " cheap genius-- ----> though\n",
      " cheap genius--though ---->  a\n"
     ]
    }
   ],
   "source": [
    "#Decode and print context and corresponding desired output tokens\n",
    "for i in range(1, context_size+1):\n",
    "    context = enc_sample[:i]\n",
    "    desired = enc_sample[i]\n",
    "    print(tokenizer.decode(context), \"---->\", tokenizer.decode([desired]))"
   ]
  },
  {
   "cell_type": "code",
   "execution_count": 95,
   "id": "d8d11eac",
   "metadata": {},
   "outputs": [],
   "source": [
    "#Define a PyTorch Dataset class for preparing input and target sequences from text\n",
    "import torch\n",
    "from torch.utils.data import Dataset, DataLoader\n",
    " \n",
    "class GPTDatasetV1(Dataset):\n",
    "    def __init__(self, txt, tokenizer, max_length, stride):\n",
    "        self.input_ids = []\n",
    "        self.target_ids = []\n",
    " \n",
    "        token_ids = tokenizer.encode(txt)\n",
    " \n",
    "        for i in range(0, len(token_ids) - max_length, stride):\n",
    "            input_chunk = token_ids[i:i + max_length]\n",
    "            target_chunk = token_ids[i + 1: i + max_length + 1]\n",
    "            self.input_ids.append(torch.tensor(input_chunk))\n",
    "            self.target_ids.append(torch.tensor(target_chunk))\n",
    " \n",
    "    def __len__(self):\n",
    "        return len(self.input_ids)\n",
    " \n",
    "    def __getitem__(self, idx):\n",
    "        return self.input_ids[idx], self.target_ids[idx]"
   ]
  },
  {
   "cell_type": "code",
   "execution_count": 96,
   "id": "bda77326",
   "metadata": {},
   "outputs": [],
   "source": [
    "#Create a DataLoader for the GPTDatasetV1 class with specified parameters.\n",
    "def create_dataloader_v1(txt, batch_size=4, max_length=256,\n",
    "        stride=128, shuffle=True, drop_last=True, num_workers=0):\n",
    "    tokenizer = tiktoken.get_encoding(\"gpt2\")\n",
    "    dataset = GPTDatasetV1(txt, tokenizer, max_length, stride)\n",
    "    dataloader = DataLoader(\n",
    "        dataset,\n",
    "        batch_size=batch_size,\n",
    "        shuffle=shuffle,\n",
    "        drop_last=drop_last,\n",
    "        num_workers=0\n",
    "    )\n",
    " \n",
    "    return dataloader"
   ]
  },
  {
   "cell_type": "code",
   "execution_count": 97,
   "id": "34e43aa9",
   "metadata": {},
   "outputs": [
    {
     "name": "stdout",
     "output_type": "stream",
     "text": [
      "[tensor([[  464,  4643, 11600,   628]]), tensor([[ 4643, 11600,   628,   198]])]\n",
      "[tensor([[ 4643, 11600,   628,   198]]), tensor([[11600,   628,   198,   197]])]\n"
     ]
    }
   ],
   "source": [
    "#Initialize the DataLoader and print the first two batches of data\n",
    "with open(\"The_verdict.txt\", \"r\", encoding=\"utf-8\") as f:\n",
    "    raw_text = f.read()\n",
    "    \n",
    "dataloader = create_dataloader_v1(\n",
    "    raw_text, batch_size=1, max_length=4, stride=1, shuffle=False)\n",
    "data_iter = iter(dataloader)\n",
    "\n",
    "first_batch = next(data_iter)\n",
    "print(first_batch)\n",
    "\n",
    "second_batch = next(data_iter)\n",
    "print(second_batch)"
   ]
  },
  {
   "cell_type": "markdown",
   "id": "dab2310d",
   "metadata": {},
   "source": [
    "### Creating token embeddings"
   ]
  },
  {
   "cell_type": "code",
   "execution_count": 98,
   "id": "1673562c",
   "metadata": {},
   "outputs": [
    {
     "name": "stdout",
     "output_type": "stream",
     "text": [
      "Parameter containing:\n",
      "tensor([[ 0.3374, -0.1778, -0.1690],\n",
      "        [ 0.9178,  1.5810,  1.3010],\n",
      "        [ 1.2753, -0.2010, -0.1606],\n",
      "        [-0.4015,  0.9666, -1.1481],\n",
      "        [-1.1589,  0.3255, -0.6315],\n",
      "        [-2.8400, -0.7849, -1.4096]], requires_grad=True)\n"
     ]
    }
   ],
   "source": [
    "# Define an embedding layer with specified vocabulary size and output dimension, and print the weights\n",
    "\n",
    "input_ids = torch.tensor([2, 3, 5, 1])\n",
    "\n",
    "vocab_size = 6\n",
    "output_dim = 3\n",
    "\n",
    "torch.manual_seed(123)\n",
    "embedding_layer = torch.nn.Embedding(vocab_size, output_dim)\n",
    "print(embedding_layer.weight)"
   ]
  },
  {
   "cell_type": "code",
   "execution_count": null,
   "id": "86575f29",
   "metadata": {},
   "outputs": [],
   "source": []
  }
 ],
 "metadata": {
  "kernelspec": {
   "display_name": "Python 3 (ipykernel)",
   "language": "python",
   "name": "python3"
  },
  "language_info": {
   "codemirror_mode": {
    "name": "ipython",
    "version": 3
   },
   "file_extension": ".py",
   "mimetype": "text/x-python",
   "name": "python",
   "nbconvert_exporter": "python",
   "pygments_lexer": "ipython3",
   "version": "3.11.1"
  }
 },
 "nbformat": 4,
 "nbformat_minor": 5
}
